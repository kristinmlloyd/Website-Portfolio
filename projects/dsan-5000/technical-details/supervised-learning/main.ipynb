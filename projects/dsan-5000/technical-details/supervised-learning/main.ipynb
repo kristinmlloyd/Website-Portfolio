{
 "cells": [
  {
   "cell_type": "markdown",
   "metadata": {},
   "source": [
    "---\n",
    "title: \"Supervised Learning\"\n",
    "format:\n",
    "    html: \n",
    "        code-fold: false\n",
    "---"
   ]
  },
  {
   "cell_type": "markdown",
   "metadata": {},
   "source": [
    "![](../../assets/brain.png){width=350px align=\"left\"}"
   ]
  },
  {
   "cell_type": "markdown",
   "metadata": {},
   "source": [
    "# Introduction"
   ]
  },
  {
   "cell_type": "markdown",
   "metadata": {},
   "source": [
    "In this analysis, I explored the factors influencing death penalty cases and examined patterns using supervised learning models. Random Forest and Decision Tree classifiers were employed to predict case outcomes, and their performance was evaluated based on accuracy, feature importance, and cross-validation scores. Additionally, petition data related to the death penalty was analyzed to assess public sentiment using emotion detection techniques."
   ]
  },
  {
   "cell_type": "markdown",
   "metadata": {},
   "source": [
    "# Code"
   ]
  },
  {
   "cell_type": "code",
   "execution_count": 37,
   "metadata": {},
   "outputs": [],
   "source": [
    "import pandas as pd\n",
    "from sklearn.model_selection import train_test_split\n",
    "from sklearn.ensemble import RandomForestClassifier\n",
    "from sklearn.metrics import classification_report\n",
    "from imblearn.over_sampling import SMOTE\n",
    "import numpy as np\n",
    "from sklearn.preprocessing import StandardScaler, OneHotEncoder\n",
    "from sklearn.impute import SimpleImputer\n",
    "from sklearn.compose import ColumnTransformer\n",
    "from sklearn.pipeline import Pipeline\n",
    "from sklearn.metrics import accuracy_score\n",
    "from sklearn.base import BaseEstimator, TransformerMixin\n",
    "import matplotlib.pyplot as plt\n",
    "from sklearn.tree import plot_tree"
   ]
  },
  {
   "cell_type": "code",
   "execution_count": 2,
   "metadata": {},
   "outputs": [],
   "source": [
    "df = pd.read_csv(\"../../data/processed-data/innocence-project-all-cases_cleaned.csv\")"
   ]
  },
  {
   "cell_type": "markdown",
   "metadata": {},
   "source": [
    "I handled the missing values by imputing the median for numeric columns and the mode for categorical columns."
   ]
  },
  {
   "cell_type": "code",
   "execution_count": 3,
   "metadata": {},
   "outputs": [],
   "source": [
    "for col in df.columns:\n",
    "    if df[col].dtype == 'object':  \n",
    "        df[col] = df[col].fillna(df[col].mode()[0])\n",
    "    else:  \n",
    "        df[col] = df[col].fillna(df[col].median())"
   ]
  },
  {
   "cell_type": "markdown",
   "metadata": {},
   "source": [
    "Below, I separated the features and the target variable to prepare the dataset for modeling."
   ]
  },
  {
   "cell_type": "code",
   "execution_count": 4,
   "metadata": {},
   "outputs": [],
   "source": [
    "df = pd.get_dummies(df, drop_first=True)\n",
    "\n",
    "X = df.drop('death_penalty_case', axis=1)\n",
    "y = df['death_penalty_case']"
   ]
  },
  {
   "cell_type": "markdown",
   "metadata": {},
   "source": [
    "Now, we split into training and testing datasets. Then we apply SMOTE to oversample the minority class in the training set, which is death penalty cases (there are only 7 out of 200)."
   ]
  },
  {
   "cell_type": "code",
   "execution_count": 5,
   "metadata": {},
   "outputs": [],
   "source": [
    "X_train, X_test, y_train, y_test = train_test_split(X, y, test_size=0.2, random_state=42)\n",
    "\n",
    "smote = SMOTE(random_state=42)\n",
    "X_train_balanced, y_train_balanced = smote.fit_resample(X_train, y_train)"
   ]
  },
  {
   "cell_type": "markdown",
   "metadata": {},
   "source": [
    "Next, we train a Random Forest Classifier and make predictions on the test set."
   ]
  },
  {
   "cell_type": "code",
   "execution_count": 6,
   "metadata": {},
   "outputs": [],
   "source": [
    "rf_model = RandomForestClassifier(n_estimators=100, random_state=42)\n",
    "rf_model.fit(X_train_balanced, y_train_balanced)\n",
    "\n",
    "y_pred = rf_model.predict(X_test)"
   ]
  },
  {
   "cell_type": "markdown",
   "metadata": {},
   "source": [
    "Next, I printed a classification report to evaluate the performance of the model and analyze the results."
   ]
  },
  {
   "cell_type": "code",
   "execution_count": 8,
   "metadata": {},
   "outputs": [
    {
     "name": "stdout",
     "output_type": "stream",
     "text": [
      "Classification Report:\n",
      "              precision    recall  f1-score   support\n",
      "\n",
      "           0       0.95      1.00      0.97        38\n",
      "           1       1.00      0.33      0.50         3\n",
      "\n",
      "    accuracy                           0.95        41\n",
      "   macro avg       0.97      0.67      0.74        41\n",
      "weighted avg       0.95      0.95      0.94        41\n",
      "\n",
      "\n",
      "Accuracy: 0.95\n"
     ]
    }
   ],
   "source": [
    "from sklearn.metrics import accuracy_score\n",
    "\n",
    "# Print classification report and accuracy\n",
    "print(\"Classification Report:\")\n",
    "print(classification_report(y_test, y_pred))\n",
    "\n",
    "# Print accuracy\n",
    "accuracy = accuracy_score(y_test, y_pred)\n",
    "print(f\"\\nAccuracy: {accuracy:.2f}\")\n"
   ]
  },
  {
   "cell_type": "markdown",
   "metadata": {},
   "source": [
    "Accuracy can be misleading in imbalanced datasets because it doesn’t account for the performance across all classes equally. Since class 0 is far more frequent, the overall accuracy reflects its performance predominantly, hiding the poor performance on class 1. The Recall for class 1 indicates that the model struggles to correctly identify death penalty cases (class 1), even though the overall accuracy is high. "
   ]
  },
  {
   "cell_type": "markdown",
   "metadata": {},
   "source": [
    "The original dataset has limitations due to an insufficient number of death penalty cases. To address this, we will incorporate another dataset that contains more death penalty cases. However, to combine the datasets, we need to align the column names, reformat the data where necessary, and possibly remove columns if the new dataset lacks equivalent information. A quick cleanup will help with this process."
   ]
  },
  {
   "cell_type": "markdown",
   "metadata": {},
   "source": [
    "The first step is to reimport the dataset to ensure a clean, unaltered version before applying any changes."
   ]
  },
  {
   "cell_type": "code",
   "execution_count": 10,
   "metadata": {},
   "outputs": [],
   "source": [
    "df = pd.read_csv(\"../../data/processed-data/innocence-project-all-cases_cleaned.csv\")"
   ]
  },
  {
   "cell_type": "markdown",
   "metadata": {},
   "source": [
    "The next step is to drop any columns that are unnecessary or not included in the other dataset to ensure compatibility during the merge."
   ]
  },
  {
   "cell_type": "code",
   "execution_count": 11,
   "metadata": {},
   "outputs": [],
   "source": [
    "columns_to_drop = [\n",
    "    'name', 'charge', 'conviction', 'sentence', 'contributing_causes_of_conviction', 'in concert)', 'status', 'incident_date_month', 'incident_date_day', 'incident_date_year',\n",
    "    'conviction_date_month', 'conviction_date_day',\n",
    "    'exoneration_date_month', 'exoneration_date_year', 'exoneration_date_day',\n",
    "]\n",
    "\n",
    "df = df.drop(columns=columns_to_drop, axis=1)"
   ]
  },
  {
   "cell_type": "markdown",
   "metadata": {},
   "source": [
    "The next step is to reformat the \"race of victims\" column to align with the format used in the other dataset."
   ]
  },
  {
   "cell_type": "code",
   "execution_count": 12,
   "metadata": {},
   "outputs": [],
   "source": [
    "# Initialize new victim count columns with zeros\n",
    "df['number_of_white_victims'] = 0\n",
    "df['number_of_black_victims'] = 0\n",
    "df['number_of_latino/a_victims'] = 0\n",
    "df['number_of_other_victims'] = 0\n",
    "\n",
    "for index, row in df.iterrows():\n",
    "    if pd.isna(row['race_of_victim']):\n",
    "        continue \n",
    "    races = row['race_of_victim'].split(', ')  # Split multiple races if necessary\n",
    "    for race in races:\n",
    "        if race in ['Caucasian']:\n",
    "            df.at[index, 'number_of_white_victims'] += 1\n",
    "        elif race in ['African American', 'Black']:\n",
    "            df.at[index, 'number_of_black_victims'] += 1\n",
    "        elif race in ['Latinx']:\n",
    "            df.at[index, 'number_of_latino/a_victims'] += 1\n",
    "        else:  \n",
    "            df.at[index, 'number_of_other_victims'] += 1"
   ]
  },
  {
   "cell_type": "code",
   "execution_count": 13,
   "metadata": {},
   "outputs": [],
   "source": [
    "df.columns = df.columns.str.lower().str.replace(' ', '_')"
   ]
  },
  {
   "cell_type": "markdown",
   "metadata": {},
   "source": [
    "The next step is to save the dataset for manual editing, as aligning and reformatting the data will require more detailed adjustments. This allows me to review and handle inconsistencies directly."
   ]
  },
  {
   "cell_type": "code",
   "execution_count": 14,
   "metadata": {},
   "outputs": [],
   "source": [
    "output_file_path = \"all_cases_for_supervised_learning.csv\"\n",
    "df.to_csv(output_file_path, index=False)"
   ]
  },
  {
   "cell_type": "markdown",
   "metadata": {},
   "source": [
    "I am now loading the new dataset into the environment."
   ]
  },
  {
   "cell_type": "code",
   "execution_count": 15,
   "metadata": {},
   "outputs": [],
   "source": [
    "df_ex = pd.read_csv(\"../../data/processed-data/all_executions_cleaned.csv\")"
   ]
  },
  {
   "cell_type": "markdown",
   "metadata": {},
   "source": [
    "I will now drop any columns from the new dataset that are not present in the original dataset to ensure consistency."
   ]
  },
  {
   "cell_type": "code",
   "execution_count": 16,
   "metadata": {},
   "outputs": [
    {
     "data": {
      "text/html": [
       "<div>\n",
       "<style scoped>\n",
       "    .dataframe tbody tr th:only-of-type {\n",
       "        vertical-align: middle;\n",
       "    }\n",
       "\n",
       "    .dataframe tbody tr th {\n",
       "        vertical-align: top;\n",
       "    }\n",
       "\n",
       "    .dataframe thead th {\n",
       "        text-align: right;\n",
       "    }\n",
       "</style>\n",
       "<table border=\"1\" class=\"dataframe\">\n",
       "  <thead>\n",
       "    <tr style=\"text-align: right;\">\n",
       "      <th></th>\n",
       "      <th>race</th>\n",
       "      <th>sex</th>\n",
       "      <th>state</th>\n",
       "      <th>number_of_white_male_victims</th>\n",
       "      <th>number_of_black_male_victims</th>\n",
       "      <th>number_of_latino/a_male_victims</th>\n",
       "      <th>number_of_asian_male_victims</th>\n",
       "      <th>number_of_native_american_male_victims</th>\n",
       "      <th>number_of_other_male_victims</th>\n",
       "      <th>number_of_white_female_victims</th>\n",
       "      <th>number_of_black_female_victims</th>\n",
       "      <th>number_of_latino/a_female_victims</th>\n",
       "      <th>number_of_asian_female_victims</th>\n",
       "      <th>number_of_american_indian_or_alaska_native_female_victims</th>\n",
       "      <th>number_of_other_female_victims</th>\n",
       "      <th>number_of_unknown_victims</th>\n",
       "      <th>execution_year</th>\n",
       "    </tr>\n",
       "  </thead>\n",
       "  <tbody>\n",
       "    <tr>\n",
       "      <th>0</th>\n",
       "      <td>White</td>\n",
       "      <td>Male</td>\n",
       "      <td>Utah</td>\n",
       "      <td>1</td>\n",
       "      <td>0</td>\n",
       "      <td>0</td>\n",
       "      <td>0</td>\n",
       "      <td>0</td>\n",
       "      <td>0</td>\n",
       "      <td>0</td>\n",
       "      <td>0</td>\n",
       "      <td>0</td>\n",
       "      <td>0</td>\n",
       "      <td>0</td>\n",
       "      <td>0</td>\n",
       "      <td>0</td>\n",
       "      <td>77</td>\n",
       "    </tr>\n",
       "    <tr>\n",
       "      <th>1</th>\n",
       "      <td>White</td>\n",
       "      <td>Male</td>\n",
       "      <td>Florida</td>\n",
       "      <td>1</td>\n",
       "      <td>0</td>\n",
       "      <td>0</td>\n",
       "      <td>0</td>\n",
       "      <td>0</td>\n",
       "      <td>0</td>\n",
       "      <td>0</td>\n",
       "      <td>0</td>\n",
       "      <td>0</td>\n",
       "      <td>0</td>\n",
       "      <td>0</td>\n",
       "      <td>0</td>\n",
       "      <td>0</td>\n",
       "      <td>79</td>\n",
       "    </tr>\n",
       "    <tr>\n",
       "      <th>2</th>\n",
       "      <td>White</td>\n",
       "      <td>Male</td>\n",
       "      <td>Nevada</td>\n",
       "      <td>1</td>\n",
       "      <td>0</td>\n",
       "      <td>0</td>\n",
       "      <td>0</td>\n",
       "      <td>0</td>\n",
       "      <td>0</td>\n",
       "      <td>0</td>\n",
       "      <td>0</td>\n",
       "      <td>0</td>\n",
       "      <td>0</td>\n",
       "      <td>0</td>\n",
       "      <td>0</td>\n",
       "      <td>0</td>\n",
       "      <td>79</td>\n",
       "    </tr>\n",
       "    <tr>\n",
       "      <th>3</th>\n",
       "      <td>White</td>\n",
       "      <td>Male</td>\n",
       "      <td>Indiana</td>\n",
       "      <td>2</td>\n",
       "      <td>0</td>\n",
       "      <td>0</td>\n",
       "      <td>0</td>\n",
       "      <td>0</td>\n",
       "      <td>0</td>\n",
       "      <td>2</td>\n",
       "      <td>0</td>\n",
       "      <td>0</td>\n",
       "      <td>0</td>\n",
       "      <td>0</td>\n",
       "      <td>0</td>\n",
       "      <td>0</td>\n",
       "      <td>81</td>\n",
       "    </tr>\n",
       "    <tr>\n",
       "      <th>4</th>\n",
       "      <td>White</td>\n",
       "      <td>Male</td>\n",
       "      <td>Virginia</td>\n",
       "      <td>1</td>\n",
       "      <td>0</td>\n",
       "      <td>0</td>\n",
       "      <td>0</td>\n",
       "      <td>0</td>\n",
       "      <td>0</td>\n",
       "      <td>0</td>\n",
       "      <td>0</td>\n",
       "      <td>0</td>\n",
       "      <td>0</td>\n",
       "      <td>0</td>\n",
       "      <td>0</td>\n",
       "      <td>0</td>\n",
       "      <td>82</td>\n",
       "    </tr>\n",
       "  </tbody>\n",
       "</table>\n",
       "</div>"
      ],
      "text/plain": [
       "    race   sex     state  number_of_white_male_victims  \\\n",
       "0  White  Male      Utah                             1   \n",
       "1  White  Male   Florida                             1   \n",
       "2  White  Male    Nevada                             1   \n",
       "3  White  Male   Indiana                             2   \n",
       "4  White  Male  Virginia                             1   \n",
       "\n",
       "   number_of_black_male_victims  number_of_latino/a_male_victims  \\\n",
       "0                             0                                0   \n",
       "1                             0                                0   \n",
       "2                             0                                0   \n",
       "3                             0                                0   \n",
       "4                             0                                0   \n",
       "\n",
       "   number_of_asian_male_victims  number_of_native_american_male_victims  \\\n",
       "0                             0                                       0   \n",
       "1                             0                                       0   \n",
       "2                             0                                       0   \n",
       "3                             0                                       0   \n",
       "4                             0                                       0   \n",
       "\n",
       "   number_of_other_male_victims  number_of_white_female_victims  \\\n",
       "0                             0                               0   \n",
       "1                             0                               0   \n",
       "2                             0                               0   \n",
       "3                             0                               2   \n",
       "4                             0                               0   \n",
       "\n",
       "   number_of_black_female_victims  number_of_latino/a_female_victims  \\\n",
       "0                               0                                  0   \n",
       "1                               0                                  0   \n",
       "2                               0                                  0   \n",
       "3                               0                                  0   \n",
       "4                               0                                  0   \n",
       "\n",
       "   number_of_asian_female_victims  \\\n",
       "0                               0   \n",
       "1                               0   \n",
       "2                               0   \n",
       "3                               0   \n",
       "4                               0   \n",
       "\n",
       "   number_of_american_indian_or_alaska_native_female_victims  \\\n",
       "0                                                  0           \n",
       "1                                                  0           \n",
       "2                                                  0           \n",
       "3                                                  0           \n",
       "4                                                  0           \n",
       "\n",
       "   number_of_other_female_victims  number_of_unknown_victims  execution_year  \n",
       "0                               0                          0              77  \n",
       "1                               0                          0              79  \n",
       "2                               0                          0              79  \n",
       "3                               0                          0              81  \n",
       "4                               0                          0              82  "
      ]
     },
     "execution_count": 16,
     "metadata": {},
     "output_type": "execute_result"
    }
   ],
   "source": [
    "columns_to_drop = [\n",
    "    'execution_volunteer', 'number_of_victims', 'juvenile', 'first_name', 'last_name', 'region', 'country', 'foreign_national', 'execution_month', 'execution_day'\n",
    "]\n",
    "\n",
    "df_ex = df_ex.drop(columns=columns_to_drop, axis=1)\n",
    "df_ex.head()"
   ]
  },
  {
   "cell_type": "markdown",
   "metadata": {},
   "source": [
    "The other dataset does not differentiate between male and female victims, so we need to combine these columns into a single column for each race to match the format of the original dataset."
   ]
  },
  {
   "cell_type": "code",
   "execution_count": 17,
   "metadata": {},
   "outputs": [
    {
     "name": "stdout",
     "output_type": "stream",
     "text": [
      "Updated column names:\n",
      "['race', 'sex', 'state', 'number_of_unknown_victims', 'execution_year', 'number_of_white_victims', 'number_of_black_victims', 'number_of_latino/a_victims', 'number_of_asian_victims', 'number_of_native_american_victims', 'number_of_other_victims']\n"
     ]
    }
   ],
   "source": [
    "# Combine male and female victim counts into a single column for each race\n",
    "df_ex['number_of_white_victims'] = df_ex['number_of_white_male_victims'] + df_ex['number_of_white_female_victims']\n",
    "df_ex['number_of_black_victims'] = df_ex['number_of_black_male_victims'] + df_ex['number_of_black_female_victims']\n",
    "df_ex['number_of_latino/a_victims'] = df_ex['number_of_latino/a_male_victims'] + df_ex['number_of_latino/a_female_victims']\n",
    "df_ex['number_of_asian_victims'] = df_ex['number_of_asian_male_victims'] + df_ex['number_of_asian_female_victims']\n",
    "df_ex['number_of_native_american_victims'] = df_ex['number_of_native_american_male_victims'] + df_ex['number_of_american_indian_or_alaska_native_female_victims']\n",
    "df_ex['number_of_other_victims'] = df_ex['number_of_other_male_victims'] + df_ex['number_of_other_female_victims']\n",
    "\n",
    "# Drop the original male and female victim columns\n",
    "victim_columns_to_drop = [\n",
    "    'number_of_white_male_victims', 'number_of_white_female_victims',\n",
    "    'number_of_black_male_victims', 'number_of_black_female_victims',\n",
    "    'number_of_latino/a_male_victims', 'number_of_latino/a_female_victims',\n",
    "    'number_of_asian_male_victims', 'number_of_asian_female_victims',\n",
    "    'number_of_native_american_male_victims', 'number_of_other_male_victims',\n",
    "    'number_of_other_female_victims', 'number_of_american_indian_or_alaska_native_female_victims'\n",
    "]\n",
    "df_ex.drop(columns=victim_columns_to_drop, inplace=True)\n",
    "\n",
    "print(\"Updated column names:\")\n",
    "print(df_ex.columns.tolist())"
   ]
  },
  {
   "cell_type": "markdown",
   "metadata": {},
   "source": [
    "Next, we will rename the columns in the dataset to match the format of the original dataset."
   ]
  },
  {
   "cell_type": "code",
   "execution_count": 18,
   "metadata": {},
   "outputs": [],
   "source": [
    "df_ex.rename(columns={\n",
    "    'race': 'race_of_exoneree',\n",
    "    'execution_year': 'execution_date_year'\n",
    "}, inplace=True)"
   ]
  },
  {
   "cell_type": "markdown",
   "metadata": {},
   "source": [
    "I will now save the dataset for further manual editing, allowing direct adjustments to be made as needed."
   ]
  },
  {
   "cell_type": "code",
   "execution_count": 19,
   "metadata": {},
   "outputs": [],
   "source": [
    "output_file_path = \"executions_for_supervised_learning.csv\"\n",
    "df_ex.to_csv(output_file_path, index=False)"
   ]
  },
  {
   "cell_type": "markdown",
   "metadata": {},
   "source": [
    "After completing the manual editing to ensure everything matches, I loaded the new datasets, which include 200 death penalty cases and 200 normal cases."
   ]
  },
  {
   "cell_type": "code",
   "execution_count": 20,
   "metadata": {},
   "outputs": [],
   "source": [
    "death_sup_df = pd.read_csv(\"../../data/processed-data/death_sup.csv\")"
   ]
  },
  {
   "cell_type": "code",
   "execution_count": 21,
   "metadata": {},
   "outputs": [],
   "source": [
    "all_sup_df = pd.read_csv(\"../../data/processed-data/all_sup.csv\")"
   ]
  },
  {
   "cell_type": "markdown",
   "metadata": {},
   "source": [
    "I then merged the edited datasets into a single dataset."
   ]
  },
  {
   "cell_type": "code",
   "execution_count": 22,
   "metadata": {},
   "outputs": [
    {
     "data": {
      "text/html": [
       "<div>\n",
       "<style scoped>\n",
       "    .dataframe tbody tr th:only-of-type {\n",
       "        vertical-align: middle;\n",
       "    }\n",
       "\n",
       "    .dataframe tbody tr th {\n",
       "        vertical-align: top;\n",
       "    }\n",
       "\n",
       "    .dataframe thead th {\n",
       "        text-align: right;\n",
       "    }\n",
       "</style>\n",
       "<table border=\"1\" class=\"dataframe\">\n",
       "  <thead>\n",
       "    <tr style=\"text-align: right;\">\n",
       "      <th></th>\n",
       "      <th>state</th>\n",
       "      <th>death_penalty_case</th>\n",
       "      <th>race</th>\n",
       "      <th>date_year</th>\n",
       "      <th>number_of_white_victims</th>\n",
       "      <th>number_of_black_victims</th>\n",
       "      <th>number_of_latino/a_victims</th>\n",
       "      <th>number_of_asian_victims</th>\n",
       "      <th>number_of_native_american_victims</th>\n",
       "      <th>number_of_other_victims</th>\n",
       "      <th>murder</th>\n",
       "      <th>rape</th>\n",
       "      <th>other</th>\n",
       "    </tr>\n",
       "  </thead>\n",
       "  <tbody>\n",
       "    <tr>\n",
       "      <th>0</th>\n",
       "      <td>Utah</td>\n",
       "      <td>1</td>\n",
       "      <td>White</td>\n",
       "      <td>77.0</td>\n",
       "      <td>1</td>\n",
       "      <td>0</td>\n",
       "      <td>0</td>\n",
       "      <td>0.0</td>\n",
       "      <td>0.0</td>\n",
       "      <td>0</td>\n",
       "      <td>1.0</td>\n",
       "      <td>NaN</td>\n",
       "      <td>1.0</td>\n",
       "    </tr>\n",
       "    <tr>\n",
       "      <th>1</th>\n",
       "      <td>Florida</td>\n",
       "      <td>1</td>\n",
       "      <td>White</td>\n",
       "      <td>79.0</td>\n",
       "      <td>1</td>\n",
       "      <td>0</td>\n",
       "      <td>0</td>\n",
       "      <td>0.0</td>\n",
       "      <td>0.0</td>\n",
       "      <td>0</td>\n",
       "      <td>1.0</td>\n",
       "      <td>NaN</td>\n",
       "      <td>NaN</td>\n",
       "    </tr>\n",
       "    <tr>\n",
       "      <th>2</th>\n",
       "      <td>Nevada</td>\n",
       "      <td>1</td>\n",
       "      <td>White</td>\n",
       "      <td>79.0</td>\n",
       "      <td>1</td>\n",
       "      <td>0</td>\n",
       "      <td>0</td>\n",
       "      <td>0.0</td>\n",
       "      <td>0.0</td>\n",
       "      <td>0</td>\n",
       "      <td>1.0</td>\n",
       "      <td>NaN</td>\n",
       "      <td>1.0</td>\n",
       "    </tr>\n",
       "    <tr>\n",
       "      <th>3</th>\n",
       "      <td>Indiana</td>\n",
       "      <td>1</td>\n",
       "      <td>White</td>\n",
       "      <td>81.0</td>\n",
       "      <td>4</td>\n",
       "      <td>0</td>\n",
       "      <td>0</td>\n",
       "      <td>0.0</td>\n",
       "      <td>0.0</td>\n",
       "      <td>0</td>\n",
       "      <td>1.0</td>\n",
       "      <td>NaN</td>\n",
       "      <td>NaN</td>\n",
       "    </tr>\n",
       "    <tr>\n",
       "      <th>4</th>\n",
       "      <td>Virginia</td>\n",
       "      <td>1</td>\n",
       "      <td>White</td>\n",
       "      <td>82.0</td>\n",
       "      <td>1</td>\n",
       "      <td>0</td>\n",
       "      <td>0</td>\n",
       "      <td>0.0</td>\n",
       "      <td>0.0</td>\n",
       "      <td>0</td>\n",
       "      <td>1.0</td>\n",
       "      <td>NaN</td>\n",
       "      <td>NaN</td>\n",
       "    </tr>\n",
       "  </tbody>\n",
       "</table>\n",
       "</div>"
      ],
      "text/plain": [
       "      state  death_penalty_case   race  date_year  number_of_white_victims  \\\n",
       "0      Utah                   1  White       77.0                        1   \n",
       "1   Florida                   1  White       79.0                        1   \n",
       "2    Nevada                   1  White       79.0                        1   \n",
       "3   Indiana                   1  White       81.0                        4   \n",
       "4  Virginia                   1  White       82.0                        1   \n",
       "\n",
       "   number_of_black_victims  number_of_latino/a_victims  \\\n",
       "0                        0                           0   \n",
       "1                        0                           0   \n",
       "2                        0                           0   \n",
       "3                        0                           0   \n",
       "4                        0                           0   \n",
       "\n",
       "   number_of_asian_victims  number_of_native_american_victims  \\\n",
       "0                      0.0                                0.0   \n",
       "1                      0.0                                0.0   \n",
       "2                      0.0                                0.0   \n",
       "3                      0.0                                0.0   \n",
       "4                      0.0                                0.0   \n",
       "\n",
       "   number_of_other_victims  murder  rape  other  \n",
       "0                        0     1.0   NaN    1.0  \n",
       "1                        0     1.0   NaN    NaN  \n",
       "2                        0     1.0   NaN    1.0  \n",
       "3                        0     1.0   NaN    NaN  \n",
       "4                        0     1.0   NaN    NaN  "
      ]
     },
     "execution_count": 22,
     "metadata": {},
     "output_type": "execute_result"
    }
   ],
   "source": [
    "merged_df = pd.concat([death_sup_df, all_sup_df], ignore_index=True)\n",
    "merged_df.head()"
   ]
  },
  {
   "cell_type": "markdown",
   "metadata": {},
   "source": [
    "The \"race\" column was updated by converting categories like \"Caucasian\" to \"White\" and \"African American\" to \"Black.\""
   ]
  },
  {
   "cell_type": "code",
   "execution_count": 23,
   "metadata": {},
   "outputs": [
    {
     "data": {
      "text/plain": [
       "array(['White', 'Black', 'Latino/a', 'Native American or Alaskan Native',\n",
       "       'Native American', nan, 'Asian American'], dtype=object)"
      ]
     },
     "execution_count": 23,
     "metadata": {},
     "output_type": "execute_result"
    }
   ],
   "source": [
    "race_mapping = {\n",
    "    \"African American\": \"Black\",\n",
    "    \"Caucasian\": \"White\",\n",
    "    \"Latinx\": \"Latino/a\"\n",
    "}\n",
    "\n",
    "if 'race' in merged_df.columns:\n",
    "    merged_df['race'] = merged_df['race'].replace(race_mapping)\n",
    "\n",
    "merged_df['race'].unique()"
   ]
  },
  {
   "cell_type": "markdown",
   "metadata": {},
   "source": [
    "## Random Forest"
   ]
  },
  {
   "cell_type": "markdown",
   "metadata": {},
   "source": [
    "Below, I created a custom transformer, StringConverter, to convert categorical features to strings and defined the features and target variable, with death_penalty_case as the target."
   ]
  },
  {
   "cell_type": "code",
   "execution_count": null,
   "metadata": {},
   "outputs": [],
   "source": [
    "class StringConverter(BaseEstimator, TransformerMixin):\n",
    "    def fit(self, X, y=None):\n",
    "        return self\n",
    "    \n",
    "    def transform(self, X):\n",
    "        return X.astype(str)\n",
    "\n",
    "features = ['state', 'death_penalty_case', 'race', 'number_of_white_victims',\n",
    "            'number_of_black_victims', 'number_of_latino/a_victims', 'number_of_other_victims',\n",
    "            'date_year', 'murder', 'rape', 'other']\n",
    "target = 'death_penalty_case'"
   ]
  },
  {
   "cell_type": "markdown",
   "metadata": {},
   "source": [
    "I then proceeded to rebuild the same model as before, this time using the newly balanced dataset."
   ]
  },
  {
   "cell_type": "code",
   "execution_count": 27,
   "metadata": {},
   "outputs": [],
   "source": [
    "X = merged_df[features]\n",
    "y = merged_df[target]\n",
    "X_train, X_test, y_train, y_test = train_test_split(X, y, test_size=0.2, random_state=42)"
   ]
  },
  {
   "cell_type": "code",
   "execution_count": 28,
   "metadata": {},
   "outputs": [],
   "source": [
    "numeric_features = ['number_of_white_victims', 'number_of_black_victims', \n",
    "                    'number_of_latino/a_victims', 'number_of_other_victims', \n",
    "                    'date_year']\n",
    "categorical_features = ['state', 'race', \n",
    "                        'murder', 'rape', 'other']"
   ]
  },
  {
   "cell_type": "code",
   "execution_count": 29,
   "metadata": {},
   "outputs": [],
   "source": [
    "numeric_transformer = Pipeline(steps=[\n",
    "    ('imputer', SimpleImputer(strategy='mean')),\n",
    "    ('scaler', StandardScaler())\n",
    "])\n",
    "\n",
    "categorical_transformer = Pipeline(steps=[\n",
    "    ('imputer', SimpleImputer(strategy='constant', fill_value='missing')),\n",
    "    ('to_string', StringConverter()),\n",
    "    ('onehot', OneHotEncoder(handle_unknown='ignore'))\n",
    "])\n",
    "\n",
    "preprocessor = ColumnTransformer(\n",
    "    transformers=[\n",
    "        ('num', numeric_transformer, numeric_features),\n",
    "        ('cat', categorical_transformer, categorical_features)\n",
    "    ])"
   ]
  },
  {
   "cell_type": "code",
   "execution_count": 30,
   "metadata": {},
   "outputs": [],
   "source": [
    "clf = Pipeline([\n",
    "    ('preprocessor', preprocessor),\n",
    "    ('classifier', RandomForestClassifier(n_estimators=100, random_state=42))\n",
    "])\n",
    "\n",
    "clf.fit(X_train, y_train)\n",
    "\n",
    "y_pred = clf.predict(X_test)"
   ]
  },
  {
   "cell_type": "code",
   "execution_count": 44,
   "metadata": {},
   "outputs": [
    {
     "name": "stdout",
     "output_type": "stream",
     "text": [
      "Accuracy: 0.9875\n",
      "\n",
      "Classification Report:\n",
      "              precision    recall  f1-score   support\n",
      "\n",
      "           0       1.00      0.97      0.99        36\n",
      "           1       0.98      1.00      0.99        44\n",
      "\n",
      "    accuracy                           0.99        80\n",
      "   macro avg       0.99      0.99      0.99        80\n",
      "weighted avg       0.99      0.99      0.99        80\n",
      "\n",
      "\n",
      "Top 3 Feature Importance:\n",
      "         feature  importance\n",
      "4      date_year    0.294278\n",
      "53  rape_missing    0.124380\n",
      "49    murder_1.0    0.109836\n"
     ]
    }
   ],
   "source": [
    "print(\"Accuracy:\", accuracy_score(y_test, y_pred))\n",
    "print(\"\\nClassification Report:\")\n",
    "print(classification_report(y_test, y_pred))\n",
    "\n",
    "feature_importance = clf.named_steps['classifier'].feature_importances_\n",
    "feature_names = (numeric_features + \n",
    "                 clf.named_steps['preprocessor']\n",
    "                    .named_transformers_['cat']\n",
    "                    .named_steps['onehot']\n",
    "                    .get_feature_names_out(categorical_features).tolist())\n",
    "\n",
    "importance_df = pd.DataFrame({'feature': feature_names, 'importance': feature_importance})\n",
    "importance_df = importance_df.sort_values('importance', ascending=False)\n",
    "\n",
    "print(\"\\nTop 3 Feature Importance:\")\n",
    "print(importance_df.head(3))\n"
   ]
  },
  {
   "cell_type": "markdown",
   "metadata": {},
   "source": [
    "The model achieved an accuracy of 98.75%, with key features such as rape_missing, murder_1.0, and date_year contributing most significantly to predicting death penalty cases."
   ]
  },
  {
   "cell_type": "markdown",
   "metadata": {},
   "source": [
    "## Decision Tree"
   ]
  },
  {
   "cell_type": "code",
   "execution_count": 34,
   "metadata": {},
   "outputs": [],
   "source": [
    "from sklearn.tree import DecisionTreeClassifier\n",
    "from sklearn.tree import export_text"
   ]
  },
  {
   "cell_type": "markdown",
   "metadata": {},
   "source": [
    "In this code, I created a pipeline to train and evaluate a Decision Tree Classifier. The pipeline includes preprocessing steps, such as scaling numeric features and one-hot encoding categorical features, followed by training a Decision Tree with a specified maximum depth of 5. After fitting the model to the training data, I made predictions on the test set and evaluated its performance using accuracy and a classification report. Additionally, I extracted and displayed the feature importance scores to better understand which features contributed most to the model's predictions."
   ]
  },
  {
   "cell_type": "code",
   "execution_count": null,
   "metadata": {},
   "outputs": [
    {
     "name": "stdout",
     "output_type": "stream",
     "text": [
      "Accuracy (Decision Tree): 0.9875\n",
      "\n",
      "Classification Report (Decision Tree):\n",
      "              precision    recall  f1-score   support\n",
      "\n",
      "           0       1.00      0.97      0.99        36\n",
      "           1       0.98      1.00      0.99        44\n",
      "\n",
      "    accuracy                           0.99        80\n",
      "   macro avg       0.99      0.99      0.99        80\n",
      "weighted avg       0.99      0.99      0.99        80\n",
      "\n",
      "\n",
      "Top 3 Decision Tree Feature Importance:\n",
      "           feature  importance\n",
      "4        date_year    0.894422\n",
      "48      murder_0.0    0.047677\n",
      "28  state_New York    0.018886\n"
     ]
    }
   ],
   "source": [
    "dt_clf = Pipeline([\n",
    "    ('preprocessor', preprocessor),\n",
    "    ('classifier', DecisionTreeClassifier(random_state=42, max_depth=5)) \n",
    "])\n",
    "\n",
    "dt_clf.fit(X_train, y_train)\n",
    "\n",
    "y_pred_dt = dt_clf.predict(X_test)\n",
    "\n",
    "print(\"Accuracy (Decision Tree):\", accuracy_score(y_test, y_pred_dt))\n",
    "print(\"\\nClassification Report (Decision Tree):\")\n",
    "print(classification_report(y_test, y_pred_dt))\n",
    "\n",
    "dt_feature_importance = dt_clf.named_steps['classifier'].feature_importances_\n",
    "dt_feature_names = (numeric_features + \n",
    "                    dt_clf.named_steps['preprocessor']\n",
    "                       .named_transformers_['cat']\n",
    "                       .named_steps['onehot']\n",
    "                       .get_feature_names_out(categorical_features).tolist())\n",
    "\n",
    "dt_importance_df = pd.DataFrame({'feature': dt_feature_names, 'importance': dt_feature_importance})\n",
    "dt_importance_df = dt_importance_df.sort_values('importance', ascending=False)\n",
    "\n",
    "print(\"\\nTop 3 Decision Tree Feature Importance:\")\n",
    "print(dt_importance_df.head(3))\n"
   ]
  },
  {
   "cell_type": "markdown",
   "metadata": {},
   "source": [
    "Let's look at the decision tree structure."
   ]
  },
  {
   "cell_type": "code",
   "execution_count": 36,
   "metadata": {},
   "outputs": [
    {
     "name": "stdout",
     "output_type": "stream",
     "text": [
      "\n",
      "Decision Tree Rules:\n",
      "|--- date_year <= -0.51\n",
      "|   |--- class: 1\n",
      "|--- date_year >  -0.51\n",
      "|   |--- murder_0.0 <= 0.50\n",
      "|   |   |--- state_New York <= 0.50\n",
      "|   |   |   |--- number_of_white_victims <= -0.38\n",
      "|   |   |   |   |--- state_Tennessee <= 0.50\n",
      "|   |   |   |   |   |--- class: 0\n",
      "|   |   |   |   |--- state_Tennessee >  0.50\n",
      "|   |   |   |   |   |--- class: 1\n",
      "|   |   |   |--- number_of_white_victims >  -0.38\n",
      "|   |   |   |   |--- state_Oklahoma <= 0.50\n",
      "|   |   |   |   |   |--- class: 0\n",
      "|   |   |   |   |--- state_Oklahoma >  0.50\n",
      "|   |   |   |   |   |--- class: 1\n",
      "|   |   |--- state_New York >  0.50\n",
      "|   |   |   |--- class: 0\n",
      "|   |--- murder_0.0 >  0.50\n",
      "|   |   |--- class: 0\n",
      "\n"
     ]
    }
   ],
   "source": [
    "tree_rules = export_text(dt_clf.named_steps['classifier'], feature_names=dt_feature_names)\n",
    "print(\"\\nDecision Tree Rules:\")\n",
    "print(tree_rules)"
   ]
  },
  {
   "cell_type": "code",
   "execution_count": null,
   "metadata": {},
   "outputs": [
    {
     "data": {
      "image/png": "[encoded data removed]",
      "text/plain": [
       "<Figure size 2000x1000 with 1 Axes>"
      ]
     },
     "metadata": {},
     "output_type": "display_data"
    }
   ],
   "source": [
    "dt_model = DecisionTreeClassifier(random_state=42, max_depth=5) \n",
    "dt_model.fit(preprocessor.fit_transform(X_train), y_train)\n",
    "\n",
    "plt.figure(figsize=(20, 10))\n",
    "plot_tree(\n",
    "    dt_model,\n",
    "    feature_names=numeric_features + \n",
    "    preprocessor.named_transformers_['cat']\n",
    "        .named_steps['onehot']\n",
    "        .get_feature_names_out(categorical_features).tolist(),\n",
    "    class_names=['No Death Penalty', 'Death Penalty'],\n",
    "    filled=True,\n",
    "    rounded=True,\n",
    "    fontsize=10\n",
    ")\n",
    "plt.title(\"Decision Tree Visualization\", fontsize=16)\n",
    "plt.show()"
   ]
  },
  {
   "cell_type": "markdown",
   "metadata": {},
   "source": [
    "The decision tree visualization highlights how various features contribute to predicting whether a case involves the death penalty. The root node splits based on the date_year feature, showing its significance in separating classes. Subsequent nodes examine features like murder, state_New York, and number_of_white_victims, reflecting their influence on classification. The tree structure reveals patterns in the data, such as certain states and victim demographics being associated with specific outcomes. The Gini score in the decision tree represents the level of impurity or mixedness at each node. A Gini score of 0 means the node is perfectly pure, meaning all samples belong to one class (e.g., all are \"Death Penalty\" cases or all are \"No Death Penalty\" cases). A higher Gini score (closer to 0.5) indicates more mixed samples at that node. As the tree splits based on features, the Gini score decreases, which means the nodes become purer, helping the model make more accurate classifications."
   ]
  },
  {
   "cell_type": "markdown",
   "metadata": {},
   "source": [
    "## Cross Validation"
   ]
  },
  {
   "cell_type": "markdown",
   "metadata": {},
   "source": [
    "This code performs cross-validation to evaluate the Random Forest and Decision Tree models by splitting the dataset into multiple folds, ensuring fair performance assessment. It computes accuracy scores for each fold and calculates the mean accuracy, providing a more robust measure of model performance compared to a single train-test split."
   ]
  },
  {
   "cell_type": "code",
   "execution_count": 46,
   "metadata": {},
   "outputs": [
    {
     "name": "stdout",
     "output_type": "stream",
     "text": [
      "Random Forest Cross-Validation Accuracy Scores: [0.95   0.95   0.875  0.95   0.9625]\n",
      "Random Forest Mean Accuracy: 0.9375\n",
      "\n",
      "Decision Tree Cross-Validation Accuracy Scores: [0.9375 0.9375 0.8875 0.9625 0.9125]\n",
      "Decision Tree Mean Accuracy: 0.9275\n"
     ]
    }
   ],
   "source": [
    "from sklearn.model_selection import cross_val_score, StratifiedKFold\n",
    "from sklearn.ensemble import RandomForestClassifier\n",
    "from sklearn.tree import DecisionTreeClassifier\n",
    "\n",
    "# Define StratifiedKFold for consistent splits\n",
    "cv = StratifiedKFold(n_splits=5, shuffle=True, random_state=42)\n",
    "\n",
    "rf_clf = Pipeline([\n",
    "    ('preprocessor', preprocessor),\n",
    "    ('classifier', RandomForestClassifier(n_estimators=100, random_state=42))\n",
    "])\n",
    "\n",
    "rf_cv_scores = cross_val_score(rf_clf, X, y, cv=cv, scoring='accuracy')\n",
    "print(\"Random Forest Cross-Validation Accuracy Scores:\", rf_cv_scores)\n",
    "print(\"Random Forest Mean Accuracy:\", rf_cv_scores.mean())\n",
    "\n",
    "dt_clf = Pipeline([\n",
    "    ('preprocessor', preprocessor),\n",
    "    ('classifier', DecisionTreeClassifier(random_state=42, max_depth=5))\n",
    "])\n",
    "\n",
    "dt_cv_scores = cross_val_score(dt_clf, X, y, cv=cv, scoring='accuracy')\n",
    "print(\"\\nDecision Tree Cross-Validation Accuracy Scores:\", dt_cv_scores)\n",
    "print(\"Decision Tree Mean Accuracy:\", dt_cv_scores.mean())\n"
   ]
  },
  {
   "cell_type": "markdown",
   "metadata": {},
   "source": [
    "The cross-validation results show that the Random Forest model achieved an average accuracy of 93.75%, while the Decision Tree model achieved a slightly lower average accuracy of 92.75%. These scores highlight that both models perform well, with Random Forest slightly outperforming Decision Tree in terms of overall accuracy."
   ]
  },
  {
   "cell_type": "markdown",
   "metadata": {},
   "source": [
    "## Petitions"
   ]
  },
  {
   "cell_type": "markdown",
   "metadata": {},
   "source": [
    "As the final analysis of this project, I will explore petition data that was extracted earlier in the project. This dataset provides a snapshot of current-day petitions related to the death penalty, offering insight into public sentiment, advocacy efforts, and areas of focus within ongoing campaigns."
   ]
  },
  {
   "cell_type": "code",
   "execution_count": 40,
   "metadata": {},
   "outputs": [],
   "source": [
    "df_petitions = pd.read_csv(\"../../data/processed-data/cleaned_petitions_descriptions.csv\")"
   ]
  },
  {
   "cell_type": "markdown",
   "metadata": {},
   "source": [
    "This code processes a dataset of petitions, detecting the primary emotion expressed in each petition's description and the model's confidence in that classification. The results are added as new columns for analysis."
   ]
  },
  {
   "cell_type": "code",
   "execution_count": 41,
   "metadata": {},
   "outputs": [
    {
     "name": "stderr",
     "output_type": "stream",
     "text": [
      "Hardware accelerator e.g. GPU is available in the environment, but no `device` argument is passed to the `Pipeline` object. Model will be on CPU.\n"
     ]
    },
    {
     "name": "stdout",
     "output_type": "stream",
     "text": [
      "                                name  \\\n",
      "0           carey-grayson-in-alabama   \n",
      "1   christopher-collings-in-missouri   \n",
      "2  marion-bowman-in-south-carolina-2   \n",
      "3                corcoran-in-indiana   \n",
      "4        kevin-underwood-in-oklahoma   \n",
      "\n",
      "                                         description  \\\n",
      "0  An execution date has been set for Alabama dea...   \n",
      "1  Christopher Collings  is scheduled for executi...   \n",
      "2  Marion Bowman is scheduled for execution in So...   \n",
      "3  An execution date has been set for Indiana dea...   \n",
      "4  Oklahoma had plans to execute Kevin Underwood ...   \n",
      "\n",
      "                                 cleaned_description  emotion  confidence  \n",
      "0  An execution date has been set for Alabama dea...  neutral    0.858828  \n",
      "1  Christopher Collings is scheduled for executio...  neutral    0.446952  \n",
      "2  Marion Bowman is scheduled for execution in So...  neutral    0.915289  \n",
      "3  An execution date has been set for Indiana dea...  neutral    0.855573  \n",
      "4  Oklahoma had plans to execute Kevin Underwood ...  neutral    0.716961  \n"
     ]
    }
   ],
   "source": [
    "from transformers import AutoTokenizer, AutoModelForSequenceClassification, pipeline\n",
    "\n",
    "model_name = \"SamLowe/roberta-base-go_emotions\"\n",
    "tokenizer = AutoTokenizer.from_pretrained(model_name)\n",
    "model = AutoModelForSequenceClassification.from_pretrained(model_name)\n",
    "\n",
    "emotion_pipeline = pipeline(\n",
    "    \"text-classification\",\n",
    "    model=model,\n",
    "    tokenizer=tokenizer,\n",
    "    padding=True,          \n",
    "    truncation=True,      \n",
    "    max_length=512         \n",
    ")\n",
    "\n",
    "def detect_emotion(text):\n",
    "    if isinstance(text, str) and len(text.strip()) > 0:\n",
    "        try:\n",
    "            result = emotion_pipeline(text)\n",
    "            return result[0]['label'], result[0]['score']\n",
    "        except IndexError:\n",
    "            return None, None\n",
    "    return None, None\n",
    "\n",
    "df_petitions[['emotion', 'confidence']] = df_petitions['cleaned_description'].apply(\n",
    "    detect_emotion\n",
    ").apply(pd.Series)\n",
    "\n",
    "print(df_petitions.head())"
   ]
  },
  {
   "cell_type": "code",
   "execution_count": 42,
   "metadata": {},
   "outputs": [
    {
     "data": {
      "text/html": [
       "<div>\n",
       "<style scoped>\n",
       "    .dataframe tbody tr th:only-of-type {\n",
       "        vertical-align: middle;\n",
       "    }\n",
       "\n",
       "    .dataframe tbody tr th {\n",
       "        vertical-align: top;\n",
       "    }\n",
       "\n",
       "    .dataframe thead th {\n",
       "        text-align: right;\n",
       "    }\n",
       "</style>\n",
       "<table border=\"1\" class=\"dataframe\">\n",
       "  <thead>\n",
       "    <tr style=\"text-align: right;\">\n",
       "      <th></th>\n",
       "      <th>name</th>\n",
       "      <th>description</th>\n",
       "      <th>cleaned_description</th>\n",
       "      <th>emotion</th>\n",
       "      <th>confidence</th>\n",
       "    </tr>\n",
       "  </thead>\n",
       "  <tbody>\n",
       "    <tr>\n",
       "      <th>0</th>\n",
       "      <td>carey-grayson-in-alabama</td>\n",
       "      <td>An execution date has been set for Alabama dea...</td>\n",
       "      <td>An execution date has been set for Alabama dea...</td>\n",
       "      <td>neutral</td>\n",
       "      <td>0.858828</td>\n",
       "    </tr>\n",
       "    <tr>\n",
       "      <th>1</th>\n",
       "      <td>christopher-collings-in-missouri</td>\n",
       "      <td>Christopher Collings  is scheduled for executi...</td>\n",
       "      <td>Christopher Collings is scheduled for executio...</td>\n",
       "      <td>neutral</td>\n",
       "      <td>0.446952</td>\n",
       "    </tr>\n",
       "    <tr>\n",
       "      <th>2</th>\n",
       "      <td>marion-bowman-in-south-carolina-2</td>\n",
       "      <td>Marion Bowman is scheduled for execution in So...</td>\n",
       "      <td>Marion Bowman is scheduled for execution in So...</td>\n",
       "      <td>neutral</td>\n",
       "      <td>0.915289</td>\n",
       "    </tr>\n",
       "    <tr>\n",
       "      <th>3</th>\n",
       "      <td>corcoran-in-indiana</td>\n",
       "      <td>An execution date has been set for Indiana dea...</td>\n",
       "      <td>An execution date has been set for Indiana dea...</td>\n",
       "      <td>neutral</td>\n",
       "      <td>0.855573</td>\n",
       "    </tr>\n",
       "    <tr>\n",
       "      <th>4</th>\n",
       "      <td>kevin-underwood-in-oklahoma</td>\n",
       "      <td>Oklahoma had plans to execute Kevin Underwood ...</td>\n",
       "      <td>Oklahoma had plans to execute Kevin Underwood ...</td>\n",
       "      <td>neutral</td>\n",
       "      <td>0.716961</td>\n",
       "    </tr>\n",
       "    <tr>\n",
       "      <th>5</th>\n",
       "      <td>steven-nelson-in-texas</td>\n",
       "      <td>In 2012, Steven Nelson was convicted of the ca...</td>\n",
       "      <td>In Steven Nelson was convicted of the capital ...</td>\n",
       "      <td>disappointment</td>\n",
       "      <td>0.282522</td>\n",
       "    </tr>\n",
       "    <tr>\n",
       "      <th>6</th>\n",
       "      <td>willie-manning-in-mississippi</td>\n",
       "      <td>Willie Manning faces an imminent and short-not...</td>\n",
       "      <td>Willie Manning faces an imminent and shortnoti...</td>\n",
       "      <td>neutral</td>\n",
       "      <td>0.717407</td>\n",
       "    </tr>\n",
       "    <tr>\n",
       "      <th>7</th>\n",
       "      <td>ralph-menzies-in-utah</td>\n",
       "      <td>The state of Utah filed a court request on Jan...</td>\n",
       "      <td>The state of Utah filed a court request on Jan...</td>\n",
       "      <td>neutral</td>\n",
       "      <td>0.924229</td>\n",
       "    </tr>\n",
       "    <tr>\n",
       "      <th>8</th>\n",
       "      <td>robert-simon-in-mississippi</td>\n",
       "      <td>Robert Simon faces an imminent and short-notic...</td>\n",
       "      <td>Robert Simon faces an imminent and shortnotice...</td>\n",
       "      <td>neutral</td>\n",
       "      <td>0.902536</td>\n",
       "    </tr>\n",
       "    <tr>\n",
       "      <th>9</th>\n",
       "      <td>tremane-wood-in-oklahoma</td>\n",
       "      <td>Tremane Wood is on death row in Oklahoma for t...</td>\n",
       "      <td>Tremane Wood is on death row in Oklahoma for t...</td>\n",
       "      <td>neutral</td>\n",
       "      <td>0.846857</td>\n",
       "    </tr>\n",
       "    <tr>\n",
       "      <th>10</th>\n",
       "      <td>anibal-canales-jr-in-texas</td>\n",
       "      <td>Anibal Canales, Jr.'s scheduled execution in T...</td>\n",
       "      <td>Anibal Canales Jrs scheduled execution in Texa...</td>\n",
       "      <td>neutral</td>\n",
       "      <td>0.923099</td>\n",
       "    </tr>\n",
       "    <tr>\n",
       "      <th>11</th>\n",
       "      <td>thomas-creech-in-idaho</td>\n",
       "      <td>Thomas Creech has been denied a clemency recom...</td>\n",
       "      <td>Thomas Creech has been denied a clemency recom...</td>\n",
       "      <td>neutral</td>\n",
       "      <td>0.665674</td>\n",
       "    </tr>\n",
       "    <tr>\n",
       "      <th>12</th>\n",
       "      <td>clarence-goode-jr-in-oklahoma</td>\n",
       "      <td>Clarence Goode, Jr. is on death row in Oklahom...</td>\n",
       "      <td>Clarence Goode Jr is on death row in Oklahoma ...</td>\n",
       "      <td>neutral</td>\n",
       "      <td>0.920716</td>\n",
       "    </tr>\n",
       "    <tr>\n",
       "      <th>13</th>\n",
       "      <td>aaron-gunches-in-arizona</td>\n",
       "      <td>Aaron Gunches is scheduled for execution in Ar...</td>\n",
       "      <td>Aaron Gunches is scheduled for execution in Ar...</td>\n",
       "      <td>neutral</td>\n",
       "      <td>0.951472</td>\n",
       "    </tr>\n",
       "    <tr>\n",
       "      <th>14</th>\n",
       "      <td>ruben-gutierrez-in-texas</td>\n",
       "      <td>Ruben Gutierrez\\nwas scheduled for execution\\n...</td>\n",
       "      <td>Ruben Gutierrez was scheduled for execution in...</td>\n",
       "      <td>neutral</td>\n",
       "      <td>0.816245</td>\n",
       "    </tr>\n",
       "    <tr>\n",
       "      <th>15</th>\n",
       "      <td>john-hanson-in-oklahoma</td>\n",
       "      <td>John Hanson is on death row in Oklahoma for th...</td>\n",
       "      <td>John Hanson is on death row in Oklahoma for th...</td>\n",
       "      <td>neutral</td>\n",
       "      <td>0.768886</td>\n",
       "    </tr>\n",
       "    <tr>\n",
       "      <th>16</th>\n",
       "      <td>james-harris-jr-in-texas</td>\n",
       "      <td>James Harris, Jr. is scheduled for execution i...</td>\n",
       "      <td>James Harris Jr is scheduled for execution in ...</td>\n",
       "      <td>neutral</td>\n",
       "      <td>0.915353</td>\n",
       "    </tr>\n",
       "    <tr>\n",
       "      <th>17</th>\n",
       "      <td>fabian-hernandez-in-texas</td>\n",
       "      <td>Fabian Hernandez WAS scheduled for execution i...</td>\n",
       "      <td>Fabian Hernandez WAS scheduled for execution i...</td>\n",
       "      <td>neutral</td>\n",
       "      <td>0.840649</td>\n",
       "    </tr>\n",
       "    <tr>\n",
       "      <th>18</th>\n",
       "      <td>ramiro-ibarra-in-texas</td>\n",
       "      <td>Ramiro Ibarra was scheduled for execution in T...</td>\n",
       "      <td>Ramiro Ibarra was scheduled for execution in T...</td>\n",
       "      <td>gratitude</td>\n",
       "      <td>0.430683</td>\n",
       "    </tr>\n",
       "    <tr>\n",
       "      <th>19</th>\n",
       "      <td>wade-greely-lay-in-oklahoma</td>\n",
       "      <td>Wade Greely Lay was most recently scheduled fo...</td>\n",
       "      <td>Wade Greely Lay was most recently scheduled fo...</td>\n",
       "      <td>neutral</td>\n",
       "      <td>0.666944</td>\n",
       "    </tr>\n",
       "    <tr>\n",
       "      <th>20</th>\n",
       "      <td>blaine-milam-in-texas</td>\n",
       "      <td>UPDATE: Blaine Milam's scheduled execution in ...</td>\n",
       "      <td>UPDATE Blaine Milams scheduled execution in Te...</td>\n",
       "      <td>neutral</td>\n",
       "      <td>0.926590</td>\n",
       "    </tr>\n",
       "    <tr>\n",
       "      <th>21</th>\n",
       "      <td>richard-moore-in-south-carolina</td>\n",
       "      <td>In collaboration with\\nRichard Moore is schedu...</td>\n",
       "      <td>In collaboration with Richard Moore is schedul...</td>\n",
       "      <td>neutral</td>\n",
       "      <td>0.865681</td>\n",
       "    </tr>\n",
       "    <tr>\n",
       "      <th>22</th>\n",
       "      <td>harold-nichols-in-tennessee</td>\n",
       "      <td>Tennessee had set an execution date of June 9,...</td>\n",
       "      <td>Tennessee had set an execution date of June fo...</td>\n",
       "      <td>neutral</td>\n",
       "      <td>0.902008</td>\n",
       "    </tr>\n",
       "    <tr>\n",
       "      <th>23</th>\n",
       "      <td>james-pavatt-in-oklahoma</td>\n",
       "      <td>James Pavatt is on death row in Oklahoma for t...</td>\n",
       "      <td>James Pavatt is on death row in Oklahoma for t...</td>\n",
       "      <td>neutral</td>\n",
       "      <td>0.923117</td>\n",
       "    </tr>\n",
       "    <tr>\n",
       "      <th>24</th>\n",
       "      <td>virgil-presnell-in-georgia</td>\n",
       "      <td>Virgil Presnell\\nwas\\nscheduled for execution ...</td>\n",
       "      <td>Virgil Presnell was scheduled for execution in...</td>\n",
       "      <td>neutral</td>\n",
       "      <td>0.839988</td>\n",
       "    </tr>\n",
       "    <tr>\n",
       "      <th>25</th>\n",
       "      <td>robert-roberson-in-texas</td>\n",
       "      <td>Robert Roberson is scheduled for execution in ...</td>\n",
       "      <td>Robert Roberson is scheduled for execution in ...</td>\n",
       "      <td>neutral</td>\n",
       "      <td>0.882511</td>\n",
       "    </tr>\n",
       "    <tr>\n",
       "      <th>26</th>\n",
       "      <td>james-ryder-in-oklahoma</td>\n",
       "      <td>James Ryder is on death row in Oklahoma for th...</td>\n",
       "      <td>James Ryder is on death row in Oklahoma for th...</td>\n",
       "      <td>neutral</td>\n",
       "      <td>0.933520</td>\n",
       "    </tr>\n",
       "    <tr>\n",
       "      <th>27</th>\n",
       "      <td>brad-sigmon-in-south-carolina</td>\n",
       "      <td>In Partnership with\\nBrad Sigmon, 63, was sche...</td>\n",
       "      <td>In Partnership with Brad Sigmon was scheduled ...</td>\n",
       "      <td>neutral</td>\n",
       "      <td>0.907284</td>\n",
       "    </tr>\n",
       "    <tr>\n",
       "      <th>28</th>\n",
       "      <td>oscar-smith-in-tennessee</td>\n",
       "      <td>Tennessee\\nhad\\nset an execution date of\\nApri...</td>\n",
       "      <td>Tennessee had set an execution date of April f...</td>\n",
       "      <td>neutral</td>\n",
       "      <td>0.907698</td>\n",
       "    </tr>\n",
       "    <tr>\n",
       "      <th>29</th>\n",
       "      <td>will-speer-in-texas</td>\n",
       "      <td>Will Speer was scheduled for execution in Texa...</td>\n",
       "      <td>Will Speer was scheduled for execution in Texa...</td>\n",
       "      <td>neutral</td>\n",
       "      <td>0.540603</td>\n",
       "    </tr>\n",
       "    <tr>\n",
       "      <th>30</th>\n",
       "      <td>andre-thomas-in-texas</td>\n",
       "      <td>Andre Thomas is scheduled for execution in Tex...</td>\n",
       "      <td>Andre Thomas is scheduled for execution in Tex...</td>\n",
       "      <td>neutral</td>\n",
       "      <td>0.695960</td>\n",
       "    </tr>\n",
       "    <tr>\n",
       "      <th>31</th>\n",
       "      <td>carlos-trevino-in-texas</td>\n",
       "      <td>UPDATE 9/16/2020: This execution has been stay...</td>\n",
       "      <td>UPDATE This execution has been stayed pending ...</td>\n",
       "      <td>neutral</td>\n",
       "      <td>0.724098</td>\n",
       "    </tr>\n",
       "  </tbody>\n",
       "</table>\n",
       "</div>"
      ],
      "text/plain": [
       "                                 name  \\\n",
       "0            carey-grayson-in-alabama   \n",
       "1    christopher-collings-in-missouri   \n",
       "2   marion-bowman-in-south-carolina-2   \n",
       "3                 corcoran-in-indiana   \n",
       "4         kevin-underwood-in-oklahoma   \n",
       "5              steven-nelson-in-texas   \n",
       "6       willie-manning-in-mississippi   \n",
       "7               ralph-menzies-in-utah   \n",
       "8         robert-simon-in-mississippi   \n",
       "9            tremane-wood-in-oklahoma   \n",
       "10         anibal-canales-jr-in-texas   \n",
       "11             thomas-creech-in-idaho   \n",
       "12      clarence-goode-jr-in-oklahoma   \n",
       "13           aaron-gunches-in-arizona   \n",
       "14           ruben-gutierrez-in-texas   \n",
       "15            john-hanson-in-oklahoma   \n",
       "16           james-harris-jr-in-texas   \n",
       "17          fabian-hernandez-in-texas   \n",
       "18             ramiro-ibarra-in-texas   \n",
       "19        wade-greely-lay-in-oklahoma   \n",
       "20              blaine-milam-in-texas   \n",
       "21    richard-moore-in-south-carolina   \n",
       "22        harold-nichols-in-tennessee   \n",
       "23           james-pavatt-in-oklahoma   \n",
       "24         virgil-presnell-in-georgia   \n",
       "25           robert-roberson-in-texas   \n",
       "26            james-ryder-in-oklahoma   \n",
       "27      brad-sigmon-in-south-carolina   \n",
       "28           oscar-smith-in-tennessee   \n",
       "29                will-speer-in-texas   \n",
       "30              andre-thomas-in-texas   \n",
       "31            carlos-trevino-in-texas   \n",
       "\n",
       "                                          description  \\\n",
       "0   An execution date has been set for Alabama dea...   \n",
       "1   Christopher Collings  is scheduled for executi...   \n",
       "2   Marion Bowman is scheduled for execution in So...   \n",
       "3   An execution date has been set for Indiana dea...   \n",
       "4   Oklahoma had plans to execute Kevin Underwood ...   \n",
       "5   In 2012, Steven Nelson was convicted of the ca...   \n",
       "6   Willie Manning faces an imminent and short-not...   \n",
       "7   The state of Utah filed a court request on Jan...   \n",
       "8   Robert Simon faces an imminent and short-notic...   \n",
       "9   Tremane Wood is on death row in Oklahoma for t...   \n",
       "10  Anibal Canales, Jr.'s scheduled execution in T...   \n",
       "11  Thomas Creech has been denied a clemency recom...   \n",
       "12  Clarence Goode, Jr. is on death row in Oklahom...   \n",
       "13  Aaron Gunches is scheduled for execution in Ar...   \n",
       "14  Ruben Gutierrez\\nwas scheduled for execution\\n...   \n",
       "15  John Hanson is on death row in Oklahoma for th...   \n",
       "16  James Harris, Jr. is scheduled for execution i...   \n",
       "17  Fabian Hernandez WAS scheduled for execution i...   \n",
       "18  Ramiro Ibarra was scheduled for execution in T...   \n",
       "19  Wade Greely Lay was most recently scheduled fo...   \n",
       "20  UPDATE: Blaine Milam's scheduled execution in ...   \n",
       "21  In collaboration with\\nRichard Moore is schedu...   \n",
       "22  Tennessee had set an execution date of June 9,...   \n",
       "23  James Pavatt is on death row in Oklahoma for t...   \n",
       "24  Virgil Presnell\\nwas\\nscheduled for execution ...   \n",
       "25  Robert Roberson is scheduled for execution in ...   \n",
       "26  James Ryder is on death row in Oklahoma for th...   \n",
       "27  In Partnership with\\nBrad Sigmon, 63, was sche...   \n",
       "28  Tennessee\\nhad\\nset an execution date of\\nApri...   \n",
       "29  Will Speer was scheduled for execution in Texa...   \n",
       "30  Andre Thomas is scheduled for execution in Tex...   \n",
       "31  UPDATE 9/16/2020: This execution has been stay...   \n",
       "\n",
       "                                  cleaned_description         emotion  \\\n",
       "0   An execution date has been set for Alabama dea...         neutral   \n",
       "1   Christopher Collings is scheduled for executio...         neutral   \n",
       "2   Marion Bowman is scheduled for execution in So...         neutral   \n",
       "3   An execution date has been set for Indiana dea...         neutral   \n",
       "4   Oklahoma had plans to execute Kevin Underwood ...         neutral   \n",
       "5   In Steven Nelson was convicted of the capital ...  disappointment   \n",
       "6   Willie Manning faces an imminent and shortnoti...         neutral   \n",
       "7   The state of Utah filed a court request on Jan...         neutral   \n",
       "8   Robert Simon faces an imminent and shortnotice...         neutral   \n",
       "9   Tremane Wood is on death row in Oklahoma for t...         neutral   \n",
       "10  Anibal Canales Jrs scheduled execution in Texa...         neutral   \n",
       "11  Thomas Creech has been denied a clemency recom...         neutral   \n",
       "12  Clarence Goode Jr is on death row in Oklahoma ...         neutral   \n",
       "13  Aaron Gunches is scheduled for execution in Ar...         neutral   \n",
       "14  Ruben Gutierrez was scheduled for execution in...         neutral   \n",
       "15  John Hanson is on death row in Oklahoma for th...         neutral   \n",
       "16  James Harris Jr is scheduled for execution in ...         neutral   \n",
       "17  Fabian Hernandez WAS scheduled for execution i...         neutral   \n",
       "18  Ramiro Ibarra was scheduled for execution in T...       gratitude   \n",
       "19  Wade Greely Lay was most recently scheduled fo...         neutral   \n",
       "20  UPDATE Blaine Milams scheduled execution in Te...         neutral   \n",
       "21  In collaboration with Richard Moore is schedul...         neutral   \n",
       "22  Tennessee had set an execution date of June fo...         neutral   \n",
       "23  James Pavatt is on death row in Oklahoma for t...         neutral   \n",
       "24  Virgil Presnell was scheduled for execution in...         neutral   \n",
       "25  Robert Roberson is scheduled for execution in ...         neutral   \n",
       "26  James Ryder is on death row in Oklahoma for th...         neutral   \n",
       "27  In Partnership with Brad Sigmon was scheduled ...         neutral   \n",
       "28  Tennessee had set an execution date of April f...         neutral   \n",
       "29  Will Speer was scheduled for execution in Texa...         neutral   \n",
       "30  Andre Thomas is scheduled for execution in Tex...         neutral   \n",
       "31  UPDATE This execution has been stayed pending ...         neutral   \n",
       "\n",
       "    confidence  \n",
       "0     0.858828  \n",
       "1     0.446952  \n",
       "2     0.915289  \n",
       "3     0.855573  \n",
       "4     0.716961  \n",
       "5     0.282522  \n",
       "6     0.717407  \n",
       "7     0.924229  \n",
       "8     0.902536  \n",
       "9     0.846857  \n",
       "10    0.923099  \n",
       "11    0.665674  \n",
       "12    0.920716  \n",
       "13    0.951472  \n",
       "14    0.816245  \n",
       "15    0.768886  \n",
       "16    0.915353  \n",
       "17    0.840649  \n",
       "18    0.430683  \n",
       "19    0.666944  \n",
       "20    0.926590  \n",
       "21    0.865681  \n",
       "22    0.902008  \n",
       "23    0.923117  \n",
       "24    0.839988  \n",
       "25    0.882511  \n",
       "26    0.933520  \n",
       "27    0.907284  \n",
       "28    0.907698  \n",
       "29    0.540603  \n",
       "30    0.695960  \n",
       "31    0.724098  "
      ]
     },
     "execution_count": 42,
     "metadata": {},
     "output_type": "execute_result"
    }
   ],
   "source": [
    "df_petitions"
   ]
  },
  {
   "cell_type": "markdown",
   "metadata": {},
   "source": [
    "Most of the detected emotions in the petition descriptions are neutral, which might indicate a lack of emotional appeal, a key factor for petitions to effectively engage their audience and drive action. There was one petition expressing disappointment and another showing gratitude, possibly acknowledging support or progress in the cause. This highlights the opportunity to craft more compelling, emotionally charged descriptions to better resonate with supporters."
   ]
  },
  {
   "cell_type": "markdown",
   "metadata": {},
   "source": [
    "# Summary"
   ]
  },
  {
   "cell_type": "markdown",
   "metadata": {},
   "source": [
    "This analysis demonstrated the effectiveness of Random Forest and Decision Tree models in predicting death penalty cases, with Random Forest achieving a slightly higher mean accuracy. Key predictors such as the case year and victim demographics were identified as significant features. The sentiment analysis of petitions revealed a predominantly neutral tone, suggesting opportunities to craft more emotionally engaging descriptions to mobilize public support. These findings underscore the potential of data-driven approaches in understanding and addressing issues surrounding the death penalty."
   ]
  },
  {
   "cell_type": "markdown",
   "metadata": {},
   "source": [
    "# Future Work"
   ]
  },
  {
   "cell_type": "markdown",
   "metadata": {},
   "source": [
    "![](../../assets/future.png){width=100px align=\"left\"}"
   ]
  },
  {
   "cell_type": "markdown",
   "metadata": {},
   "source": [
    "Future work for this analysis involves compiling a larger dataset with additional features to enhance predictive accuracy and insights. Expanding the dataset to include more types of crimes beyond murder, rape, and \"other\" will allow for a more comprehensive analysis of factors influencing death penalty outcomes. Additionally, incorporating geographical information, such as the county where the crime occurred, could significantly improve predictions, as previous findings highlighted the county's substantial impact on death penalty decisions. This analysis serves as a foundational starting point, with the potential for further refinement and expansion."
   ]
  },
  {
   "cell_type": "markdown",
   "metadata": {},
   "source": [
    "[Download all_sup.csv](../../data/raw-data/all_sup.csv)\n",
    "\n",
    "[Download death_sup.csv](../../data/raw-data/death_sup.csv)"
   ]
  }
 ],
 "metadata": {
  "kernelspec": {
   "display_name": "5000",
   "language": "python",
   "name": "python3"
  },
  "language_info": {
   "codemirror_mode": {
    "name": "ipython",
    "version": 3
   },
   "file_extension": ".py",
   "mimetype": "text/x-python",
   "name": "python",
   "nbconvert_exporter": "python",
   "pygments_lexer": "ipython3",
   "version": "3.11.10"
  }
 },
 "nbformat": 4,
 "nbformat_minor": 2
}
