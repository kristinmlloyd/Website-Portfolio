{
 "cells": [
  {
   "cell_type": "markdown",
   "metadata": {},
   "source": [
    "## Cleaning the UNAIDs dataset "
   ]
  },
  {
   "cell_type": "code",
   "execution_count": 41,
   "metadata": {},
   "outputs": [
    {
     "name": "stdout",
     "output_type": "stream",
     "text": [
      "No indicators found in the file, using manual mapping\n",
      "Column names in cleaned dataset: ['Year', 'Country Code', 'Country', 'Adults (15-49) prevalence (%)', 'Young women (15-24) prevalence (%)', 'Young men (15-24) prevalence (%)', 'AIDS-related deaths among adults and children', 'AIDS-related deaths among children (0-14)', 'AIDS-related deaths among adults (15+)', 'Estimated children (0-14) living with HIV', 'Estimated women (15+) living with HIV', 'Estimated adults (15+) living with HIV', 'Estimated adults and children living with HIV', 'Adults (15-49) incidence (per 1000 uninfected population)', 'All ages incidence (per 1000 uninfected population)', 'Pregnant women needing antiretrovirals for preventing mother-to-child transmission', 'Children (0-14) newly infected with HIV', 'Adults (15+) newly infected with HIV', 'Adults and children newly infected with HIV']\n"
     ]
    }
   ],
   "source": [
    "import pandas as pd\n",
    "\n",
    "\n",
    "df_raw = pd.read_excel('../../data/raw_data/UNAIDS.xlsx', header=None)\n",
    "\n",
    "found_indicators = False\n",
    "\n",
    "for row_idx in range(5):\n",
    "    row_content = df_raw.iloc[row_idx].dropna().tolist()\n",
    "    if any('prevalence' in str(cell).lower() for cell in row_content):\n",
    "        indicator_row = row_idx\n",
    "        found_indicators = True\n",
    "        print(f\"Found indicators in row {row_idx + 1}\")\n",
    "        break\n",
    "\n",
    "if found_indicators:\n",
    "    # Map indicators to the corresponding Estimate columns\n",
    "    indicators = [cell for cell in df_raw.iloc[indicator_row].tolist() if isinstance(cell, str) and cell.strip()]\n",
    "    print(f\"Found indicators: {indicators}\")\n",
    "    \n",
    "    df = pd.read_excel('../../data/raw_data/UNAIDS.xlsx', header=0)\n",
    "    \n",
    "    # Keep the first 3 columns (Year, Country Code, Country Name)\n",
    "    result_df = df.iloc[:, :3].copy()\n",
    "\n",
    "    column_idx = 3  \n",
    "    for indicator in indicators:\n",
    "        # Take the first column of each indicator group\n",
    "        if column_idx < len(df.columns):\n",
    "            result_df[indicator] = df.iloc[:, column_idx]\n",
    "            column_idx += 3  # Skip the next two columns (Low, High)\n",
    "    \n",
    "else:\n",
    "    print(\"No indicators found in the file, using manual mapping\")\n",
    "    \n",
    "    # create list of indicator names to make as the new column headers\n",
    "    indicators = [\n",
    "        \"Adults (15-49) prevalence (%)\",\n",
    "        \"Young women (15-24) prevalence (%)\",\n",
    "        \"Young men (15-24) prevalence (%)\",\n",
    "        \"AIDS-related deaths among adults and children\",\n",
    "        \"AIDS-related deaths among children (0-14)\",\n",
    "        \"AIDS-related deaths among adults (15+)\",\n",
    "        \"Estimated children (0-14) living with HIV\",\n",
    "        \"Estimated women (15+) living with HIV\",\n",
    "        \"Estimated adults (15+) living with HIV\",\n",
    "        \"Estimated adults and children living with HIV\",\n",
    "        \"Adults (15-49) incidence (per 1000 uninfected population)\",\n",
    "        \"All ages incidence (per 1000 uninfected population)\",\n",
    "        \"Pregnant women needing antiretrovirals for preventing mother-to-child transmission\",\n",
    "        \"Children (0-14) newly infected with HIV\",\n",
    "        \"Adults (15+) newly infected with HIV\",\n",
    "        \"Adults and children newly infected with HIV\",\n",
    "    ]\n",
    "    \n",
    "    df = pd.read_excel('../../data/raw_data/UNAIDS.xlsx', header=0)\n",
    "    \n",
    "    # Keep the first 3 columns\n",
    "    result_df = df.iloc[:, :3].copy()\n",
    "    result_df.columns = ['Year', 'Country Code', 'Country']\n",
    "    \n",
    "    # Add the indicator columns\n",
    "    for i, indicator in enumerate(indicators):\n",
    "        col_idx = 3 + (i * 3)  \n",
    "        if col_idx < len(df.columns):\n",
    "            result_df[indicator] = df.iloc[:, col_idx]\n",
    "\n",
    "result_df = result_df.iloc[7:].reset_index(drop=True)\n",
    "\n",
    "print(f\"Column names in cleaned dataset: {result_df.columns.tolist()}\")"
   ]
  },
  {
   "cell_type": "code",
   "execution_count": 42,
   "metadata": {},
   "outputs": [
    {
     "name": "stdout",
     "output_type": "stream",
     "text": [
      "Data cleaning complete!\n",
      "Remaining non-numeric cells: 0\n"
     ]
    }
   ],
   "source": [
    "import numpy as np\n",
    "\n",
    "# Track counts of non-numeric values\n",
    "non_numeric_count = 0\n",
    "non_numeric_examples = []\n",
    "\n",
    "for col in result_df.columns:\n",
    "    # Skip non-numeric columns\n",
    "    if col in [\"Country Code\", \"Country\"]:\n",
    "        continue\n",
    "        \n",
    "    for i in range(len(result_df)):\n",
    "        val = result_df.loc[i, col]\n",
    "        \n",
    "        # Skip non-string values (already numeric or NaN)\n",
    "        if not isinstance(val, str):\n",
    "            continue\n",
    "            \n",
    "        # Handle different string formats\n",
    "        if val == \"...\" or val.strip() == \"\":\n",
    "            result_df.loc[i, col] = np.nan\n",
    "        elif val == \"<0.1\" or val == \"<0.01\":\n",
    "            result_df.loc[i, col] = 0\n",
    "        elif \" m\" in val:\n",
    "            try:\n",
    "                num_part = val.replace(\" m\", \"\")\n",
    "                result_df.loc[i, col] = float(num_part) * 1000000\n",
    "            except:\n",
    "                non_numeric_count += 1\n",
    "        elif val.startswith(\"<\"):\n",
    "            try:\n",
    "                num_part = val[1:]\n",
    "                if num_part.isdigit():\n",
    "                    result_df.loc[i, col] = int(num_part) - 50\n",
    "                else:\n",
    "                    non_numeric_count += 1\n",
    "            except:\n",
    "                non_numeric_count += 1\n",
    "        # Handle numbers with spaces (like \"34 000\")\n",
    "        elif \" \" in val:\n",
    "            try:\n",
    "                no_spaces = val.replace(\" \", \"\")\n",
    "                if no_spaces.isdigit():\n",
    "                    result_df.loc[i, col] = float(no_spaces)\n",
    "                else:\n",
    "                    non_numeric_count += 1\n",
    "                    if len(non_numeric_examples) < 10:\n",
    "                        non_numeric_examples.append(f\"'{val}' in column '{col}', row {i}\")\n",
    "            except:\n",
    "                non_numeric_count += 1\n",
    "        else:\n",
    "            # Try to convert to numeric\n",
    "            try:\n",
    "                result_df.loc[i, col] = float(val)\n",
    "            except:\n",
    "                non_numeric_count += 1\n",
    "                if len(non_numeric_examples) < 10:\n",
    "                    non_numeric_examples.append(f\"'{val}' in column '{col}', row {i}\")\n",
    "\n",
    "# Ensure all columns (except Country Code and Country) are numeric type\n",
    "for col in result_df.columns:\n",
    "    if col not in [\"Country Code\", \"Country\"]:\n",
    "        result_df[col] = pd.to_numeric(result_df[col], errors='coerce')\n",
    "\n",
    "# Save the cleaned dataset\n",
    "result_df.to_excel('../../data/clean_data/cleaned_UNAIDS.xlsx', index=False)\n",
    "\n",
    "print(f\"Data cleaning complete!\")\n",
    "print(f\"Remaining non-numeric cells: {non_numeric_count}\")\n",
    "if non_numeric_examples:\n",
    "    print(\"Examples of remaining non-numeric values:\")\n",
    "    for example in non_numeric_examples:\n",
    "        print(f\"  - {example}\")"
   ]
  },
  {
   "cell_type": "code",
   "execution_count": 43,
   "metadata": {},
   "outputs": [
    {
     "name": "stdout",
     "output_type": "stream",
     "text": [
      "Number of rows in cleaned dataset: 6153\n",
      "\n",
      "Sample statistics after cleaning:\n",
      "Number of NaN values: 24564\n"
     ]
    }
   ],
   "source": [
    "print(f\"Number of rows in cleaned dataset: {len(result_df)}\")\n",
    "\n",
    "# Print some statistics about the data\n",
    "print(\"\\nSample statistics after cleaning:\")\n",
    "print(f\"Number of NaN values: {result_df.isna().sum().sum()}\")"
   ]
  }
 ],
 "metadata": {
  "kernelspec": {
   "display_name": "dataviz5200",
   "language": "python",
   "name": "python3"
  },
  "language_info": {
   "codemirror_mode": {
    "name": "ipython",
    "version": 3
   },
   "file_extension": ".py",
   "mimetype": "text/x-python",
   "name": "python",
   "nbconvert_exporter": "python",
   "pygments_lexer": "ipython3",
   "version": "3.13.2"
  }
 },
 "nbformat": 4,
 "nbformat_minor": 2
}
