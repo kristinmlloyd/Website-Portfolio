{
 "cells": [
  {
   "cell_type": "code",
   "execution_count": 1,
   "id": "7bfb849d",
   "metadata": {},
   "outputs": [],
   "source": [
    "import pandas as pd\n",
    "\n",
    "# skip first 3 rows\n",
    "df = pd.read_excel('../../data/raw_data/AIDSVu_transmissiondata/AIDSVu_2018.xlsx', skiprows=3)\n",
    "# Keep only columns where \"Transmission\" or \"transmission\" is in the column name\n",
    "df = df[[col for col in df.columns if 'Transmission' in col or 'transmission' in col]]\n",
    "\n"
   ]
  },
  {
   "cell_type": "code",
   "execution_count": 2,
   "id": "5cb8b42d",
   "metadata": {},
   "outputs": [],
   "source": [
    "# Load the three datasets\n",
    "df1 = pd.read_excel('../../data/raw_data/AIDSVu_transmissiondata/AIDSVu_2018.xlsx', skiprows=3)\n",
    "df2 = pd.read_excel('../../data/raw_data/AIDSVu_transmissiondata/AIDSVu_2020.xlsx', skiprows=3)\n",
    "df3 = pd.read_excel('../../data/raw_data/AIDSVu_transmissiondata/AIDSVu_2022.xlsx', skiprows=3)\n",
    "\n",
    "# Concatenate vertically (row-wise)\n",
    "df = pd.concat([df1, df2, df3], ignore_index=True)\n"
   ]
  },
  {
   "cell_type": "code",
   "execution_count": 3,
   "id": "380fadf2",
   "metadata": {},
   "outputs": [
    {
     "data": {
      "text/plain": [
       "Index(['Year', 'Geography', 'New Diagnoses\\nNational Cases',\n",
       "       'New Diagnoses\\nNational Rate', 'New Diagnoses\\nMale Cases',\n",
       "       'New Diagnoses\\nMale Rate', 'New Diagnoses\\nFemale Cases',\n",
       "       'New Diagnoses\\nFemale Rate', 'New Diagnoses\\nAge 13-24 Cases',\n",
       "       'New Diagnoses\\nAge 13-24 Rate',\n",
       "       ...\n",
       "       'New Diagnoses\\nMSM and Native\\nHawaiian/Other\\nPacific Islander\\nPercent',\n",
       "       'New Diagnoses IDU\\nand Native\\nHawaiian/Other\\nPacific Islander\\nPercent',\n",
       "       'New Diagnoses\\nMSM/IDU and\\nNative\\nHawaiian/Other\\nPacific Islander\\nPercent',\n",
       "       'New Diagnoses\\nOther Transmission\\nCategory and\\nNative\\nHawaiian/Other\\nPacific Islander\\nPercent',\n",
       "       'New Diagnoses\\nHeterosexual\\nContact and Native\\nHawaiian/Other\\nPacific Islander\\nPercent',\n",
       "       'New Diagnoses\\nMSM and White\\nPercent',\n",
       "       'New Diagnoses IDU\\nand White Percent',\n",
       "       'New Diagnoses\\nMSM/IDU and White\\nPercent',\n",
       "       'New Diagnoses\\nOther Transmission\\nCategory and White\\nPercent',\n",
       "       'New Diagnoses\\nHeterosexual\\nContact and White\\nPercent'],\n",
       "      dtype='object', length=326)"
      ]
     },
     "execution_count": 3,
     "metadata": {},
     "output_type": "execute_result"
    }
   ],
   "source": [
    "df.columns"
   ]
  },
  {
   "cell_type": "code",
   "execution_count": 44,
   "id": "6a563069",
   "metadata": {},
   "outputs": [
    {
     "name": "stdout",
     "output_type": "stream",
     "text": [
      "\n",
      "First 5 columns of the subset:\n",
      "['New Diagnoses\\nMale and MSM\\nCases', 'New Diagnoses\\nMale and IDU\\nCases', 'New Diagnoses\\nMale and MSM/IDU\\nCases', 'New Diagnoses\\nMale and Other\\nTransmission\\nCategory Cases', 'New Diagnoses\\nMale and\\nHeterosexual\\nContact Cases']\n"
     ]
    }
   ],
   "source": [
    "# FY column (from excel spreadsheet) is index 180 \n",
    "df_pctg = df.iloc[:, 180:]\n",
    "\n",
    "print(\"\\nFirst 5 columns of the subset:\")\n",
    "print(df_pctg.columns[:5].tolist())"
   ]
  },
  {
   "cell_type": "code",
   "execution_count": 25,
   "id": "b198c7da",
   "metadata": {},
   "outputs": [
    {
     "data": {
      "text/plain": [
       "Index(['New Diagnoses\\nMale and MSM\\nCases',\n",
       "       'New Diagnoses\\nMale and IDU\\nCases',\n",
       "       'New Diagnoses\\nMale and MSM/IDU\\nCases',\n",
       "       'New Diagnoses\\nMale and Other\\nTransmission\\nCategory Cases',\n",
       "       'New Diagnoses\\nMale and\\nHeterosexual\\nContact Cases',\n",
       "       'New Diagnoses\\nFemale and\\nHeterosexual\\nContact Cases',\n",
       "       'New Diagnoses\\nFemale and IDU\\nCases',\n",
       "       'New Diagnoses\\nFemale and Other\\nTransmission\\nCategory Cases',\n",
       "       'New Diagnoses\\nHeterosexual\\nContact and Age\\n13-24 Cases',\n",
       "       'New Diagnoses IDU\\nand Age 13-24\\nCases',\n",
       "       ...\n",
       "       'New Diagnoses\\nMSM and Native\\nHawaiian/Other\\nPacific Islander\\nPercent',\n",
       "       'New Diagnoses IDU\\nand Native\\nHawaiian/Other\\nPacific Islander\\nPercent',\n",
       "       'New Diagnoses\\nMSM/IDU and\\nNative\\nHawaiian/Other\\nPacific Islander\\nPercent',\n",
       "       'New Diagnoses\\nOther Transmission\\nCategory and\\nNative\\nHawaiian/Other\\nPacific Islander\\nPercent',\n",
       "       'New Diagnoses\\nHeterosexual\\nContact and Native\\nHawaiian/Other\\nPacific Islander\\nPercent',\n",
       "       'New Diagnoses\\nMSM and White\\nPercent',\n",
       "       'New Diagnoses IDU\\nand White Percent',\n",
       "       'New Diagnoses\\nMSM/IDU and White\\nPercent',\n",
       "       'New Diagnoses\\nOther Transmission\\nCategory and White\\nPercent',\n",
       "       'New Diagnoses\\nHeterosexual\\nContact and White\\nPercent'],\n",
       "      dtype='object', length=146)"
      ]
     },
     "execution_count": 25,
     "metadata": {},
     "output_type": "execute_result"
    }
   ],
   "source": [
    "df.columns"
   ]
  },
  {
   "cell_type": "code",
   "execution_count": 45,
   "id": "4ccbb80d",
   "metadata": {},
   "outputs": [
    {
     "name": "stdout",
     "output_type": "stream",
     "text": [
      "Original columns: 326\n",
      "Columns with 'Percent': 73\n",
      "Final columns (Percent without age): 43\n",
      "\n",
      "First 5 filtered columns:\n",
      "['New Diagnoses\\nMale and MSM\\nPercent', 'New Diagnoses\\nMale and IDU\\nPercent', 'New Diagnoses\\nMale and MSM/IDU\\nPercent', 'New Diagnoses\\nMale and Other\\nTransmission\\nCategory Percent', 'New Diagnoses\\nMale and\\nHeterosexual\\nContact Percent']\n"
     ]
    },
    {
     "name": "stderr",
     "output_type": "stream",
     "text": [
      "/var/folders/vs/3j3cdp2s1nn0lr6x50_9ycj00000gn/T/ipykernel_72407/1261611362.py:20: SettingWithCopyWarning: \n",
      "A value is trying to be set on a copy of a slice from a DataFrame.\n",
      "Try using .loc[row_indexer,col_indexer] = value instead\n",
      "\n",
      "See the caveats in the documentation: https://pandas.pydata.org/pandas-docs/stable/user_guide/indexing.html#returning-a-view-versus-a-copy\n",
      "  filtered_df_pctg['Year'] = [2018, 2020, 2022]\n"
     ]
    }
   ],
   "source": [
    "# First, keep only columns with \"Percent\"\n",
    "percent_columns = [col for col in df_pctg.columns if \"Percent\" in col]\n",
    "\n",
    "# Then filter out any columns containing \"age\" (case-insensitive)\n",
    "filtered_columns = [col for col in percent_columns if \"age\" not in col.lower()]\n",
    "\n",
    "# Create the filtered DataFrame\n",
    "filtered_df_pctg = df_pctg[filtered_columns]\n",
    "\n",
    "# Check the results\n",
    "print(f\"Original columns: {df.shape[1]}\")\n",
    "print(f\"Columns with 'Percent': {len(percent_columns)}\")\n",
    "print(f\"Final columns (Percent without age): {filtered_df_pctg.shape[1]}\")\n",
    "\n",
    "# Preview the first few column names\n",
    "print(\"\\nFirst 5 filtered columns:\")\n",
    "print(filtered_df_pctg.columns[:5].tolist())\n",
    "\n",
    "# ADD YEAR COLUMN\n",
    "filtered_df_pctg['Year'] = [2018, 2020, 2022]"
   ]
  },
  {
   "cell_type": "code",
   "execution_count": 46,
   "id": "b56b6478",
   "metadata": {},
   "outputs": [
    {
     "data": {
      "text/plain": [
       "Index(['New Diagnoses\\nMale and MSM\\nPercent',\n",
       "       'New Diagnoses\\nMale and IDU\\nPercent',\n",
       "       'New Diagnoses\\nMale and MSM/IDU\\nPercent',\n",
       "       'New Diagnoses\\nMale and Other\\nTransmission\\nCategory Percent',\n",
       "       'New Diagnoses\\nMale and\\nHeterosexual\\nContact Percent',\n",
       "       'New Diagnoses\\nFemale and IDU\\nPercent',\n",
       "       'New Diagnoses\\nFemale and Other\\nTransmission\\nCategory Percent',\n",
       "       'New Diagnoses\\nFemale and\\nHeterosexual\\nContact Percent',\n",
       "       'New Diagnoses\\nMSM and American\\nIndian/Alaska\\nNative Percent',\n",
       "       'New Diagnoses IDU\\nand American\\nIndian/Alaska\\nNative Percent',\n",
       "       'New Diagnoses\\nMSM/IDU and\\nAmerican\\nIndian/Alaska\\nNative Percent',\n",
       "       'New Diagnoses\\nOther Transmission\\nCategory and\\nAmerican\\nIndian/Alaska\\nNative Percent',\n",
       "       'New Diagnoses\\nHeterosexual\\nContact and\\nAmerican\\nIndian/Alaska\\nNative Percent',\n",
       "       'New Diagnoses\\nMSM and Asian\\nPercent',\n",
       "       'New Diagnoses IDU\\nand Asian Percent',\n",
       "       'New Diagnoses\\nMSM/IDU and Asian\\nPercent',\n",
       "       'New Diagnoses\\nOther Transmission\\nCategory and Asian\\nPercent',\n",
       "       'New Diagnoses\\nHeterosexual\\nContact and Asian\\nPercent',\n",
       "       'New Diagnoses\\nMSM and Black\\nPercent',\n",
       "       'New Diagnoses IDU\\nand Black Percent',\n",
       "       'New Diagnoses\\nMSM/IDU and Black\\nPercent',\n",
       "       'New Diagnoses\\nOther Transmission\\nCategory and Black\\nPercent',\n",
       "       'New Diagnoses\\nHeterosexual\\nContact and Black\\nPercent',\n",
       "       'New Diagnoses\\nMSM and Hispanic\\nPercent',\n",
       "       'New Diagnoses IDU\\nand Hispanic\\nPercent',\n",
       "       'New Diagnoses\\nMSM/IDU and\\nHispanic Percent',\n",
       "       'New Diagnoses\\nOther Transmission\\nCategory and\\nHispanic Percent',\n",
       "       'New Diagnoses\\nHeterosexual\\nContact and\\nHispanic Percent',\n",
       "       'New Diagnoses\\nMSM and Multiple\\nRaces Percent',\n",
       "       'New Diagnoses IDU\\nand Multiple Races\\nPercent',\n",
       "       'New Diagnoses\\nMSM/IDU and\\nMultiple Races\\nPercent',\n",
       "       'New Diagnoses\\nOther Transmission\\nCategory and\\nMultiple Races\\nPercent',\n",
       "       'New Diagnoses\\nHeterosexual\\nContact and\\nMultiple Races\\nPercent',\n",
       "       'New Diagnoses\\nMSM and Native\\nHawaiian/Other\\nPacific Islander\\nPercent',\n",
       "       'New Diagnoses IDU\\nand Native\\nHawaiian/Other\\nPacific Islander\\nPercent',\n",
       "       'New Diagnoses\\nMSM/IDU and\\nNative\\nHawaiian/Other\\nPacific Islander\\nPercent',\n",
       "       'New Diagnoses\\nOther Transmission\\nCategory and\\nNative\\nHawaiian/Other\\nPacific Islander\\nPercent',\n",
       "       'New Diagnoses\\nHeterosexual\\nContact and Native\\nHawaiian/Other\\nPacific Islander\\nPercent',\n",
       "       'New Diagnoses\\nMSM and White\\nPercent',\n",
       "       'New Diagnoses IDU\\nand White Percent',\n",
       "       'New Diagnoses\\nMSM/IDU and White\\nPercent',\n",
       "       'New Diagnoses\\nOther Transmission\\nCategory and White\\nPercent',\n",
       "       'New Diagnoses\\nHeterosexual\\nContact and White\\nPercent', 'Year'],\n",
       "      dtype='object')"
      ]
     },
     "execution_count": 46,
     "metadata": {},
     "output_type": "execute_result"
    }
   ],
   "source": [
    "filtered_df_pctg.columns"
   ]
  },
  {
   "cell_type": "code",
   "execution_count": 47,
   "id": "85311078",
   "metadata": {},
   "outputs": [],
   "source": [
    "filtered_df_pctg.to_csv(\"../../data/clean_data/transmission_percentages.csv\")"
   ]
  },
  {
   "cell_type": "code",
   "execution_count": 49,
   "id": "df9990df",
   "metadata": {},
   "outputs": [],
   "source": [
    "# Load the three datasets\n",
    "df1 = pd.read_excel('../../data/raw_data/AIDSVu_transmissiondata/AIDSVu_2018.xlsx', skiprows=3)\n",
    "df2 = pd.read_excel('../../data/raw_data/AIDSVu_transmissiondata/AIDSVu_2020.xlsx', skiprows=3)\n",
    "df3 = pd.read_excel('../../data/raw_data/AIDSVu_transmissiondata/AIDSVu_2022.xlsx', skiprows=3)\n",
    "\n",
    "# Concatenate vertically (row-wise)\n",
    "df = pd.concat([df1, df2, df3], ignore_index=True)\n"
   ]
  },
  {
   "cell_type": "code",
   "execution_count": 55,
   "id": "d18aec6f",
   "metadata": {},
   "outputs": [
    {
     "name": "stdout",
     "output_type": "stream",
     "text": [
      "Original columns: 326\n",
      "Filtered columns: 16\n",
      "Excel columns kept: ['C', 'E', 'G', 'AI', 'AJ', 'AK', 'AL', 'AM', 'FY', 'FZ', 'GA', 'GB', 'GC', 'GD', 'GE', 'GF']\n",
      "\n",
      "First few columns in the filtered DataFrame:\n",
      "['New Diagnoses\\nNational Cases', 'New Diagnoses\\nMale Cases', 'New Diagnoses\\nFemale Cases', 'New Diagnoses\\nMSM Cases', 'New Diagnoses\\nMSM/IDU Cases']\n"
     ]
    },
    {
     "name": "stderr",
     "output_type": "stream",
     "text": [
      "/var/folders/vs/3j3cdp2s1nn0lr6x50_9ycj00000gn/T/ipykernel_72407/704098124.py:41: SettingWithCopyWarning: \n",
      "A value is trying to be set on a copy of a slice from a DataFrame.\n",
      "Try using .loc[row_indexer,col_indexer] = value instead\n",
      "\n",
      "See the caveats in the documentation: https://pandas.pydata.org/pandas-docs/stable/user_guide/indexing.html#returning-a-view-versus-a-copy\n",
      "  filtered_df['Year'] = [2018, 2020, 2022]\n"
     ]
    }
   ],
   "source": [
    "# Define the Excel columns you want to keep\n",
    "excel_cols_to_keep = ['C', 'E', 'G']  # Individual columns\n",
    "excel_range_to_keep = ['FY', 'FZ', 'GA', 'GB', 'GC', 'GD', 'GE', 'GF', 'AI', 'AJ', 'AK', 'AL', 'AM']  # Range FY-GF\n",
    "\n",
    "# Convert Excel column letters to pandas indices (0-based)\n",
    "def excel_col_to_index(col_str):\n",
    "    \"\"\"Convert Excel column letter to 0-based index\"\"\"\n",
    "    result = 0\n",
    "    for c in col_str:\n",
    "        result = result * 26 + (ord(c.upper()) - ord('A') + 1)\n",
    "    return result - 1  # Subtract 1 for 0-based indexing in pandas\n",
    "\n",
    "# Get the indices for individual columns\n",
    "individual_indices = [excel_col_to_index(col) for col in excel_cols_to_keep]\n",
    "\n",
    "# Get the indices for the range\n",
    "range_indices = [excel_col_to_index(col) for col in excel_range_to_keep]\n",
    "\n",
    "# Combine all indices\n",
    "all_indices_to_keep = individual_indices + range_indices\n",
    "\n",
    "# Sort indices to maintain original column order\n",
    "all_indices_to_keep.sort()\n",
    "\n",
    "# Create the filtered dataframe\n",
    "filtered_df = df.iloc[:, all_indices_to_keep]\n",
    "\n",
    "# Check the results\n",
    "print(f\"Original columns: {df.shape[1]}\")\n",
    "print(f\"Filtered columns: {filtered_df.shape[1]}\")\n",
    "\n",
    "# Show which Excel columns were kept\n",
    "excel_cols_kept = [chr(65 + idx) if idx < 26 else chr(64 + idx//26) + chr(65 + idx%26) for idx in all_indices_to_keep]\n",
    "print(f\"Excel columns kept: {excel_cols_kept}\")\n",
    "\n",
    "# Preview the column names\n",
    "print(\"\\nFirst few columns in the filtered DataFrame:\")\n",
    "print(filtered_df.columns[:5].tolist())\n",
    "\n",
    "# ADD YEAR COLUMN\n",
    "filtered_df['Year'] = [2018, 2020, 2022]\n"
   ]
  },
  {
   "cell_type": "code",
   "execution_count": 56,
   "id": "d98baf5e",
   "metadata": {},
   "outputs": [],
   "source": [
    "filtered_df.to_csv(\"../../data/clean_data/transmission_counts.csv\")"
   ]
  },
  {
   "cell_type": "code",
   "execution_count": 57,
   "id": "026e7c62",
   "metadata": {},
   "outputs": [
    {
     "data": {
      "text/plain": [
       "Index(['New Diagnoses\\nNational Cases', 'New Diagnoses\\nMale Cases',\n",
       "       'New Diagnoses\\nFemale Cases', 'New Diagnoses\\nMSM Cases',\n",
       "       'New Diagnoses\\nMSM/IDU Cases', 'New Diagnoses IDU\\nCases',\n",
       "       'New Diagnoses\\nHeterosexual\\nContact Cases',\n",
       "       'New Diagnoses\\nOther Transmission\\nCategory Cases',\n",
       "       'New Diagnoses\\nMale and MSM\\nCases',\n",
       "       'New Diagnoses\\nMale and IDU\\nCases',\n",
       "       'New Diagnoses\\nMale and MSM/IDU\\nCases',\n",
       "       'New Diagnoses\\nMale and Other\\nTransmission\\nCategory Cases',\n",
       "       'New Diagnoses\\nMale and\\nHeterosexual\\nContact Cases',\n",
       "       'New Diagnoses\\nFemale and\\nHeterosexual\\nContact Cases',\n",
       "       'New Diagnoses\\nFemale and IDU\\nCases',\n",
       "       'New Diagnoses\\nFemale and Other\\nTransmission\\nCategory Cases',\n",
       "       'Year'],\n",
       "      dtype='object')"
      ]
     },
     "execution_count": 57,
     "metadata": {},
     "output_type": "execute_result"
    }
   ],
   "source": [
    "filtered_df.columns"
   ]
  },
  {
   "cell_type": "code",
   "execution_count": 21,
   "id": "86631937",
   "metadata": {},
   "outputs": [],
   "source": [
    "df = pd.read_excel('../../data/raw_data/AIDSVu_transmissiondata/AIDSVu_2018.xlsx', skiprows=3)"
   ]
  },
  {
   "cell_type": "code",
   "execution_count": 22,
   "id": "422004c6",
   "metadata": {},
   "outputs": [
    {
     "data": {
      "text/plain": [
       "Index(['Year', 'Geography', 'New_Diagnoses_National_Cases',\n",
       "       'New_Diagnoses_National_Rate', 'New_Diagnoses_Male_Cases',\n",
       "       'New_Diagnoses_Male_Rate', 'New_Diagnoses_Female_Cases',\n",
       "       'New_Diagnoses_Female_Rate', 'New_Diagnoses_Age_13-24_Cases',\n",
       "       'New_Diagnoses_Age_13-24_Rate',\n",
       "       ...\n",
       "       'New_Diagnoses_MSM_and_Native_Hawaiian/Other_Pacific_Islander_Percent',\n",
       "       'New_Diagnoses_IDU_and_Native_Hawaiian/Other_Pacific_Islander_Percent',\n",
       "       'New_Diagnoses_MSM/IDU_and_Native_Hawaiian/Other_Pacific_Islander_Percent',\n",
       "       'New_Diagnoses_Other_Transmission_Category_and_Native_Hawaiian/Other_Pacific_Islander_Percent',\n",
       "       'New_Diagnoses_Heterosexual_Contact_and_Native_Hawaiian/Other_Pacific_Islander_Percent',\n",
       "       'New_Diagnoses_MSM_and_White_Percent',\n",
       "       'New_Diagnoses_IDU_and_White_Percent',\n",
       "       'New_Diagnoses_MSM/IDU_and_White_Percent',\n",
       "       'New_Diagnoses_Other_Transmission_Category_and_White_Percent',\n",
       "       'New_Diagnoses_Heterosexual_Contact_and_White_Percent'],\n",
       "      dtype='object', length=326)"
      ]
     },
     "execution_count": 22,
     "metadata": {},
     "output_type": "execute_result"
    }
   ],
   "source": [
    "def clean_column_name(name):\n",
    "    name = name.replace(\"\\n\", \" \").strip()\n",
    "    name = \"_\".join(name.split())\n",
    "    return name\n",
    "\n",
    "df.columns = [clean_column_name(col) for col in df.columns]\n",
    "\n",
    "df.columns"
   ]
  },
  {
   "cell_type": "code",
   "execution_count": null,
   "id": "51ea5a6d",
   "metadata": {},
   "outputs": [
    {
     "name": "stdout",
     "output_type": "stream",
     "text": [
      "Testing problem columns:\n",
      "Column: New_Diagnoses_American_Indian/Alaska_Native_Cases\n",
      "  Indicator: New Diagnoses\n",
      "  Race: American Indian/Alaska Native\n",
      "  Age: Total\n",
      "  Sex: Total\n",
      "  Value Type: Count\n",
      "\n",
      "Column: New_Diagnoses_American_Indian/Alaska_Native_Rate\n",
      "  Indicator: New Diagnoses\n",
      "  Race: American Indian/Alaska Native\n",
      "  Age: Total\n",
      "  Sex: Total\n",
      "  Value Type: Rate\n",
      "\n",
      "Column: New_Diagnoses_Native_Hawaiian/Other_Pacific_Islander_Cases\n",
      "  Indicator: New Diagnoses\n",
      "  Race: Native Hawaiian/Other Pacific Islander\n",
      "  Age: Total\n",
      "  Sex: Total\n",
      "  Value Type: Count\n",
      "\n",
      "\n",
      "Race categories found in data:\n",
      "- American Indian/Alaska Native\n",
      "- Asian\n",
      "- Black\n",
      "- Hispanic\n",
      "- Multiple Races\n",
      "- Native Hawaiian/Other Pacific Islander\n",
      "- Total\n",
      "- White\n",
      "\n",
      "Transformation complete! Output contains 115 rows.\n",
      "Sample of transformed data:\n",
      "   Year      Geography Indicator                           Race    Age    Sex  \\\n",
      "0  2018  United States       IDU  American Indian/Alaska Native  Total  Total   \n",
      "1  2018  United States       IDU                          Asian  Total  Total   \n",
      "2  2018  United States       IDU                          Black  Total  Total   \n",
      "3  2018  United States       IDU                       Hispanic  Total  Total   \n",
      "4  2018  United States       IDU                 Multiple Races  Total  Total   \n",
      "\n",
      "   Count  Rate  Percent  \n",
      "0   23.0   NaN     13.9  \n",
      "1   14.0   NaN      1.7  \n",
      "2  740.0   NaN      4.8  \n",
      "3  530.0   NaN      5.1  \n",
      "4  112.0   NaN      7.3  \n"
     ]
    }
   ],
   "source": [
    "import pandas as pd\n",
    "import numpy as np\n",
    "import re\n",
    "import warnings\n",
    "warnings.filterwarnings('ignore')\n",
    "\n",
    "# Define transmission modes to identify in column names\n",
    "transmission_modes = ['MSM', 'MSM/IDU', 'Heterosexual Contact', 'IDU', 'Other Transmission']\n",
    "\n",
    "# Function to parse column names and extract Indicator, Race, Age, Sex, and Value Type\n",
    "def parse_column_name(col_name):\n",
    "    result = {\n",
    "        'Indicator': 'New Diagnoses',\n",
    "        'Race': 'Total',\n",
    "        'Age': 'Total',\n",
    "        'Sex': 'Total',\n",
    "        'Value_Type': None\n",
    "    }\n",
    "    \n",
    "    # Check for transmission mode keywords\n",
    "    for mode in transmission_modes:\n",
    "        if mode in col_name:\n",
    "            result['Indicator'] = mode\n",
    "            break\n",
    "    \n",
    "    # Check for race keywords - using specific pattern matching\n",
    "    if 'American_Indian' in col_name or 'Alaska_Native' in col_name or 'American Indian' in col_name or 'Alaska Native' in col_name:\n",
    "        result['Race'] = 'American Indian/Alaska Native'\n",
    "    elif 'Native_Hawaiian' in col_name or 'Pacific_Islander' in col_name or 'Native Hawaiian' in col_name or 'Pacific Islander' in col_name:\n",
    "        result['Race'] = 'Native Hawaiian/Other Pacific Islander'\n",
    "    elif 'White' in col_name:\n",
    "        result['Race'] = 'White'\n",
    "    elif 'Black' in col_name:\n",
    "        result['Race'] = 'Black'\n",
    "    elif 'Asian' in col_name:\n",
    "        result['Race'] = 'Asian'\n",
    "    elif 'Hispanic' in col_name:\n",
    "        result['Race'] = 'Hispanic'\n",
    "    elif 'Multiple_Races' in col_name or 'Multiple Races' in col_name:\n",
    "        result['Race'] = 'Multiple Races'\n",
    "    \n",
    "    # Check for sex\n",
    "    if 'Male' in col_name and 'Female' not in col_name:\n",
    "        result['Sex'] = 'Male'\n",
    "    elif 'Female' in col_name:\n",
    "        result['Sex'] = 'Female'\n",
    "    \n",
    "    # Check for age\n",
    "    age_match = re.search(r'Age[_\\s]*(\\d+[-\\d+]*)', col_name)\n",
    "    if age_match:\n",
    "        result['Age'] = age_match.group(1)\n",
    "    \n",
    "    # Check for Cases or Rate or Percent\n",
    "    if 'Cases' in col_name:\n",
    "        result['Value_Type'] = 'Count'\n",
    "    elif 'Rate' in col_name:\n",
    "        result['Value_Type'] = 'Rate'\n",
    "    elif 'Percent' in col_name:\n",
    "        result['Value_Type'] = 'Percent'\n",
    "    \n",
    "    return result\n",
    "\n",
    "# Function to print debug info for a column\n",
    "def debug_column(col_name):\n",
    "    parsed = parse_column_name(col_name)\n",
    "    print(f\"Column: {col_name}\")\n",
    "    print(f\"  Indicator: {parsed['Indicator']}\")\n",
    "    print(f\"  Race: {parsed['Race']}\")\n",
    "    print(f\"  Age: {parsed['Age']}\")\n",
    "    print(f\"  Sex: {parsed['Sex']}\")\n",
    "    print(f\"  Value Type: {parsed['Value_Type']}\")\n",
    "    print()\n",
    "\n",
    "# Test with some problematic columns to make sure they're parsed correctly\n",
    "problem_columns = [\n",
    "    col for col in df.columns \n",
    "    if 'American_Indian' in col or 'Alaska_Native' in col or \n",
    "       'Native_Hawaiian' in col or 'Pacific_Islander' in col\n",
    "]\n",
    "\n",
    "if problem_columns:\n",
    "    print(\"Testing problem columns:\")\n",
    "    for col in problem_columns[:3]:  # Just show a few\n",
    "        debug_column(col)\n",
    "\n",
    "# Create a list to store our transformed data\n",
    "transformed_data = []\n",
    "\n",
    "# Process each column\n",
    "for col in df.columns:\n",
    "    # Skip Year and Geography columns as they'll be preserved\n",
    "    if col in ['Year', 'Geography']:\n",
    "        continue\n",
    "    \n",
    "    # Parse the column name\n",
    "    parsed = parse_column_name(col)\n",
    "    \n",
    "    # Skip if not a valid value type\n",
    "    if parsed['Value_Type'] is None:\n",
    "        continue\n",
    "    \n",
    "    # Create a new row for each data point\n",
    "    for idx in range(len(df)):\n",
    "        value = df[col].iloc[idx]  # Get value for each row\n",
    "        \n",
    "        # Skip NaN values\n",
    "        if pd.isna(value):\n",
    "            continue\n",
    "        \n",
    "        # Get Year and Geography for this row\n",
    "        year = df['Year'].iloc[idx] if 'Year' in df.columns else None\n",
    "        geography = df['Geography'].iloc[idx] if 'Geography' in df.columns else None\n",
    "        \n",
    "        row = {\n",
    "            'Year': year,\n",
    "            'Geography': geography,\n",
    "            'Indicator': parsed['Indicator'],\n",
    "            'Race': parsed['Race'],\n",
    "            'Age': parsed['Age'],\n",
    "            'Sex': parsed['Sex'],\n",
    "            parsed['Value_Type']: value\n",
    "        }\n",
    "        \n",
    "        # Add to our transformed data\n",
    "        transformed_data.append(row)\n",
    "\n",
    "# Convert list to DataFrame\n",
    "transformed_df = pd.DataFrame(transformed_data)\n",
    "\n",
    "# Group by the identifier columns to combine Count, Rate, and Percent into the same row\n",
    "id_cols = ['Year', 'Geography', 'Indicator', 'Race', 'Age', 'Sex']\n",
    "id_cols = [col for col in id_cols if col in transformed_df.columns]\n",
    "\n",
    "# Print race categories found\n",
    "print(\"\\nRace categories found in data:\")\n",
    "for race in sorted(transformed_df['Race'].unique()):\n",
    "    print(f\"- {race}\")\n",
    "\n",
    "grouped = transformed_df.groupby(id_cols).first().reset_index()\n",
    "\n",
    "# Reorder columns for clarity\n",
    "value_cols = ['Count', 'Rate', 'Percent']\n",
    "value_cols = [col for col in value_cols if col in grouped.columns]\n",
    "cols_order = id_cols + value_cols\n",
    "final_df = grouped[cols_order]\n",
    "\n",
    "print(f\"\\nTransformation complete! Output contains {len(final_df)} rows.\")\n",
    "print(\"Sample of transformed data:\")\n",
    "print(final_df.head())"
   ]
  },
  {
   "cell_type": "code",
   "execution_count": 26,
   "id": "b1b61c9a",
   "metadata": {},
   "outputs": [],
   "source": [
    "final_df.to_csv(\"../../data/clean_data/AIDSVu_for_links.csv\", index=False)"
   ]
  }
 ],
 "metadata": {
  "kernelspec": {
   "display_name": "dataviz5200",
   "language": "python",
   "name": "python3"
  },
  "language_info": {
   "codemirror_mode": {
    "name": "ipython",
    "version": 3
   },
   "file_extension": ".py",
   "mimetype": "text/x-python",
   "name": "python",
   "nbconvert_exporter": "python",
   "pygments_lexer": "ipython3",
   "version": "3.13.2"
  }
 },
 "nbformat": 4,
 "nbformat_minor": 5
}
